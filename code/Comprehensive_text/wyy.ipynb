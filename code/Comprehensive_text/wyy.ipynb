{
 "cells": [
  {
   "cell_type": "markdown",
   "metadata": {},
   "source": [
    "#  爬网易云的评论\n",
    "## 因为是POST方式，所以我们必须手动给出请求，但是网易云音乐参数是加密的，因此需要知道加密方法。\n",
    "1.在payload中找到想要的未加密的参数                                     window.arsea(参数，xxxx,xxx,xx)\n",
    "2.想办法把参数进行加密(必须参考网易的逻辑)，params，encSeckey            params -> encText,encSecKey -> encSecKey     p3 3分27秒\n",
    "3.请求到网易，拿到评论信息"
   ]
  },
  {
   "cell_type": "code",
   "execution_count": 81,
   "metadata": {},
   "outputs": [],
   "source": [
    "from Crypto.Cipher import AES  # AES解密\n",
    "from base64 import b64encode   # 加密后的结果不能直接用utf-8转为字符串，因此要用b64转换\n",
    "import requests\n",
    "import json #将字典data变为字符串"
   ]
  },
  {
   "cell_type": "code",
   "execution_count": 82,
   "metadata": {},
   "outputs": [],
   "source": [
    "url = \"https://music.163.com/weapi/comment/resource/comments/get?csrf_token=\"\n",
    "\n",
    "query = input(\"输入要搜索的结果\")\n",
    "data = {\n",
    "    \"csrf_token\": \"76de141d6a3132e9b86e0bfc00db6354\",\n",
    "    \"cursor\": \"-1\",\n",
    "    \"offset\": \"0\",\n",
    "    \"orderType\": \"1\",\n",
    "    \"pageNo\": \"1\",\n",
    "    \"pageSize\": \"20\",\n",
    "    \"rid\": f\"{query}\",\n",
    "    \"threadId\": f\"{query}\"\n",
    "}\n",
    "e = \"010001\"\n",
    "f = \"00e0b509f6259df8642dbc35662901477df22677ec152b5ff68ace615bb7b725152b3ab17a876aea8a5aa76d2e417629ec4ee341f56135fccf695280104e0312ecbda92557c93870114af6c9d05c4f7f0c3685b7a46bee255932575cce10b424d813cfe4875d3e82047b97ddef52741d546b8e289dc6935b3ece0462db0a22b8e7\"\n",
    "g = \"0CoJUm6Qyw8W8jud\"\n",
    "i = \"oZRMgqCksyJ7vLgF\"   #通过程序随机运行一个随机数用来固定i\n",
    "\n",
    "def get_encSecKey():\n",
    "    return \"a6b2cfa6491793414175006cff26a126f582d267e4238bc7beab2b9403e0c12ac5113c8920a50b404f457f982e2d219b965fb5fe61e27a4332080c4eb5cd2d4a6acc45152a614145734ebd727a1bd8d74de0c95c5946baf26843660a218e2e4af4a1bb446a9a3fd4c3fb850af124dc91bbec1185a64398adb397c86f333ebca3\"\n",
    "                # 由固定的i，一定会产生固定的encSecKey\n",
    "\n",
    "def get_params(data):  #对应d函数求params的部分\n",
    "    first = enc_params(data,g);\n",
    "    second = enc_params(first,i);\n",
    "    return second;\n",
    "\n",
    "def to_16(data):\n",
    "    pad = 16 - len(data)%16;\n",
    "    data += chr(pad) * pad\n",
    "    return data\n",
    "\n",
    "def enc_params(data,key):  # 加密过程,对应b函数\n",
    "    iv = \"0102030405060708\"\n",
    "    data = to_16(data)\n",
    "    aes = AES.new(key = key.encode(\"utf-8\"),IV = iv.encode(\"utf-8\"),mode = AES.MODE_CBC) #创建加密器\n",
    "    bs = aes.encrypt(data.encode(\"utf-8\")) #加密,加密的内容长度必须是16的倍数，\n",
    "    return str(b64encode(bs),\"utf-8\") #对应 tostring"
   ]
  },
  {
   "cell_type": "code",
   "execution_count": 83,
   "metadata": {},
   "outputs": [],
   "source": [
    "# 处理加密过程\n",
    "#     function a(a) {  # 返回随机的16位字符串（a=16）\n",
    "#         var d, e, b = \"abcdefghijklmnopqrstuvwxyzABCDEFGHIJKLMNOPQRSTUVWXYZ0123456789\", c = \"\";\n",
    "#         for (d = 0; a > d; d += 1)  # 循环16次\n",
    "#             e = Math.random() * b.length, # 随机数\n",
    "#             e = Math.floor(e), # 取整\n",
    "#             c += b.charAt(e);  # 取字符串中的xxx位置\n",
    "#         return c\n",
    "#     }\n",
    "#     function b(a, b) { # a是要加密的内容\n",
    "#         var c = CryptoJS.enc.Utf8.parse(b) # b 是秘钥，根据b的方程可知g和i是秘钥\n",
    "#           , d = CryptoJS.enc.Utf8.parse(\"0102030405060708\")\n",
    "#           , e = CryptoJS.enc.Utf8.parse(a)  # e是数据\n",
    "#           , f = CryptoJS.AES.encrypt(e, c, {  # c是加密的秘钥，所以b是秘钥\n",
    "#             iv: d,  # AES算法中的偏移量\n",
    "#             mode: CryptoJS.mode.CBC # cbc加密模式\n",
    "#         });\n",
    "#         return f.toString()\n",
    "#     }\n",
    "#     function c(a, b, c) {\n",
    "#         var d, e;\n",
    "#         return setMaxDigits(131),\n",
    "#         d = new RSAKeyPair(b,\"\",c),\n",
    "#         e = encryptedString(d, a)\n",
    "#     }\n",
    "#     function d(d, e, f, g) { #d：数据(data) ,  e: 将buV2x([\"流泪\", \"强\"]代码在console运行后得到固定值010001 ,  f ： 同理得很长 , g :  0CoJUm6Qyw8W8jud\n",
    "#         var h = {}\n",
    "#           , i = a(16);  # i为16位的随机值\n",
    "#         h.encText = b(d, g),    # g 和 i 是秘钥\n",
    "#         h.encText = b(h.encText, i),  # 返回的就是params\n",
    "#         h.encSecKey = c(i, e, f),     # 返回的就是encSecKey ，e 和 f是定死的, 如果将i设置为定值，那么c也是定值\n",
    "#         return h\n",
    "#     }\n",
    "    "
   ]
  },
  {
   "cell_type": "markdown",
   "metadata": {},
   "source": [
    "params进行了两次加密\n",
    "数据加g -> b -> 第一次加密+i ->b = params\n",
    "知道了加密算法后，我们就可以进行程序的编写"
   ]
  },
  {
   "cell_type": "code",
   "execution_count": 84,
   "metadata": {},
   "outputs": [
    {
     "name": "stdout",
     "output_type": "stream",
     "text": [
      "喜不喜欢，爱不爱，合不合适，在不在一起，住不住一块，有没有名分，过不过得下去，是七件事。\n",
      "恋爱时也曾发誓不在婚姻里委曲求全，可真的嫁给对的那个人，才明白结婚不是两个人的事，面对他的家人，何止要委曲求全，忍辱负重也是有的。想在婚姻中幸福不需计较太多得失，因为关灯后背过身流下的泪水只有枕头才知道。\n",
      "又是一个四不像的故事 需要用演才能维持的婚姻 真的能算是幸福吗[流泪]\n",
      "麦浚龙监制！我想到罗生门女主其实过得并不好。哈哈哈哈哈哈\n",
      "时光之中 见你便觉钟意 就是你了\n",
      "如果我爱你令你压抑个性\n",
      "抱歉我宁愿你从没遇上我\n",
      "不想你个性为我改变什么\n",
      "我爱你却是爱你的个性呀\n",
      "这首歌的歌词很值得薛之谦学习，都是写“演员”，《人妻的伪术》太深入和丰富。\n",
      "好久没有听甘正又好听的粤语歌，广州仔噶我支持你《谢安琪》♥\n",
      "别为了不属于你的观众，去演绎你不擅长的人生。\n",
      "婚姻里谁没有让步和掩饰，这歌唱的只是幸福的代价罢了。\n",
      "我今天有点爱你    明天我说不清\n",
      "我有强迫症，可以帮我点成双数吗[口罩]\n",
      "相知 相识 相恋 相伴 然而我却觉得互相了解 互相了解的知音 比你侬我侬 陪伴依赖的恋人更难寻 大概世界最难得的事就是最好的朋友恰好也是我的恋人吧\n",
      "做到第一件是缘分，第二件是真心，第三件是走心，第四件是想继续，第五件是愿意袒露一切，第六件是你值不值，而第七件则是靠命。事实上，我们能完成一半，就应该感谢自己好命了。\n",
      "她宁愿收起个性，心甘情愿去做别人的贤内助，也不要和你相约冰岛，死心啦，麦浚龙\n"
     ]
    }
   ],
   "source": [
    "uers = {\"User-Agent\": \"Mozilla/5.0 (Windows NT 10.0; Win64; x64) AppleWebKit/537.36 (KHTML, like Gecko) Chrome/99.0.4844.82 Safari/537.36\",\n",
    "        \"referer\":\"https://www.baidu.com/\"}\n",
    "proxies = {\n",
    "    \"https\":\"https://222.79.63.199:9999\"\n",
    "}\n",
    "resp = requests.post(url,data={\n",
    "    \"params\":get_params(json.dumps(data)),\n",
    "    \"encSecKey\":get_encSecKey()\n",
    "},headers=uers,timeout=1)\n",
    "resp.encoding = 'utf-8'\n",
    "\n",
    "# resp.encoding = resp.apparent_encoding\n",
    "dic = resp.json()\n",
    "              # with open(\"a.txt\",mode=\"wb\") as f:\n",
    "              #     f.write(a.encode(\"utf-8\"))\n",
    "comments = dic['data']['hotComments']\n",
    "for comment in comments:\n",
    "    content = comment['content']\n",
    "    print(content)"
   ]
  }
 ],
 "metadata": {
  "interpreter": {
   "hash": "4eaf1be304415beee96765ae99c3f893cc8312c7f1196698e6029668e9aeb3e5"
  },
  "kernelspec": {
   "display_name": "Python 3.9.0 64-bit",
   "language": "python",
   "name": "python3"
  },
  "language_info": {
   "codemirror_mode": {
    "name": "ipython",
    "version": 3
   },
   "file_extension": ".py",
   "mimetype": "text/x-python",
   "name": "python",
   "nbconvert_exporter": "python",
   "pygments_lexer": "ipython3",
   "version": "3.9.0"
  },
  "orig_nbformat": 4
 },
 "nbformat": 4,
 "nbformat_minor": 2
}
