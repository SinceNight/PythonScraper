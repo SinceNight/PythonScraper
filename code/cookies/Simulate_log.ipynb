{
 "cells": [
  {
   "cell_type": "markdown",
   "metadata": {},
   "source": [
    "登录 —>得到cookies\n",
    "带着cookies去请求到书架url ->书架的内容\n",
    "\n",
    "必须把上面的两个操作连起来\n",
    "我们可以使用session进行请求 ->session是一连串的请求，在这个过程中cookie不会丢失"
   ]
  },
  {
   "cell_type": "code",
   "execution_count": 6,
   "metadata": {},
   "outputs": [
    {
     "name": "stdout",
     "output_type": "stream",
     "text": [
      "{'status': {'code': 0, 'msg': 'succ'}, 'data': [{'bookId': 3270981, 'bookName': '我七个姐姐绝世无双', 'coverImg': 'https://cdn.static.17k.com/book/189x272/81/09/3270981.jpg-189x272?v=1612972744000', 'authorId': 38973652, 'authorPenName': '橙年岁月', 'introduction': '深居野林神秘老道，一手培养出七位足矣撼动华夏的绝美女徒弟。今日，又一名最小男徒儿罗峰顺利出山。\\n       罗峰：“我是老逼灯培养出最垃圾的徒弟，没什么本事，就想吃吃软饭，苟且度过这一生。”\\n      师父：“什么，他说他最弱？难道我没有告诉过你们，那小子身怀诡秘？”\\n      师姐：“我好像发现我们的小师弟越来越不对劲儿了，为什么世界各大强者都来跪舔他？”\\n      一位来自于世界黑暗深处的顶级势力后裔之子，出生便被抛弃做弃子，偶遇华夏旧时代战力天花板老疯子和七位倾城倾国的大背景七位师姐，从此掌握七大绝学误入都市豪门，卷动江湖风云，走上自证强者之路。', 'bookClass': {'id': 2, 'name': '男生'}, 'bookChannel': {'id': 3, 'name': '都市小说'}, 'bookCategory': {'id': 3, 'name': '都市生活'}, 'authLevel': {'id': 4, 'name': 'VIP作品'}, 'progress': 0, 'lastUpdateChapter': {'id': 46209009, 'name': '第七百零三章 三雄并立', 'createTime': 1650711650000, 'updateTime': 1650713284000, 'isVIP': {'id': 1, 'name': '是'}, 'publishTime': 1650711650000}, 'status': {'id': 4, 'name': '正常'}, 'bookStatus': {'id': 1, 'name': '连载'}, 'isVIP': {'id': 1, 'name': '是'}, 'bookmarkChapterId': 0, 'bookmarkChapterName': '', 'bookmarkChapterVipFlag': 0, 'topFlag': 0, 'createTimeValue': 1650765522000, 'updateTimeValue': 1650765528000, 'topTimeValue': 0, 'bookupdateTimeValue': 1650713284000, 'recCode': 'null1650767980705139', 'type': 5}, {'bookId': 3324680, 'bookName': '我在菜市口斩妖除魔那些年', 'coverImg': 'https://cdn.static.17k.com/book/189x272/80/46/3324680.jpg-189x272?v=1624413342000', 'authorId': 74843633, 'authorPenName': '大亨', 'introduction': '   \\u3000李长生一觉醒来，成为了大明王朝菜市口的一名刽子手！\\n\\n\\u3000\\u3000偏逢八百年大明朝妖魔横行，乾坤巨变之时，他发现自己斩杀死刑犯，可以获得各种的奖励！\\n\\n\\u3000\\u3000望气术，养气术，占卜术，替死术，纸人术，敛息术，换脸术，傀儡术，医术，机关术……\\n\\n\\u3000\\u3000上下几万年，漫漫仙道，无数魑魅魍魉一刀斩之，誓护我神州大地永世不衰！', 'bookClass': {'id': 2, 'name': '男生'}, 'bookChannel': {'id': 24, 'name': '仙侠武侠'}, 'bookCategory': {'id': 9, 'name': '古典仙侠'}, 'authLevel': {'id': 4, 'name': 'VIP作品'}, 'progress': 0, 'lastUpdateChapter': {'id': 46195639, 'name': '第990章 你们可知敌人是谁？', 'createTime': 1650547000000, 'updateTime': 1650721167000, 'isVIP': {'id': 1, 'name': '是'}, 'publishTime': 1650715203000}, 'status': {'id': 4, 'name': '正常'}, 'bookStatus': {'id': 1, 'name': '连载'}, 'isVIP': {'id': 1, 'name': '是'}, 'bookmarkChapterId': 0, 'bookmarkChapterName': '', 'bookmarkChapterVipFlag': 0, 'topFlag': 0, 'createTimeValue': 1650765522000, 'updateTimeValue': 1650765527000, 'topTimeValue': 0, 'bookupdateTimeValue': 1650727395000, 'recCode': 'null1650767980705139', 'type': 5}, {'bookId': 3385766, 'bookName': '新婚夜，我凭孕吐火爆娱乐圈', 'coverImg': 'https://cdn.static.17k.com/book/189x272/66/57/3385766.jpg-189x272?v=1639546166000', 'authorId': 76945733, 'authorPenName': '星辰的辰', 'introduction': '【孕吐怀崽+甜宠+娱乐圈+马甲+直播+1v1】\\n被称为娱乐圈女星颜值天花板的乔星辰颁奖典礼孕吐了！\\n而且下场手滑点赞猜忌微博，一夕荣登热搜榜第一！\\n微博暴涨粉丝，网友一心搜寻孩儿他爹！\\n那个帝国第一矜贵总裁上门逼婚：“怀了就生，你敢打了我慕靳寒的孩子，我要你命。”\\n新婚夜，高冷总裁看着娇软小白兔暖声说：“第一次养女人，不周到你多担待！”\\n网友们一心挖孩儿他爹是谁，假爹层出不穷，终于惹恼了某总裁……\\n慕靳寒的神颜出现在直播镜头前，“我的种！合法，有证！”', 'bookClass': {'id': 3, 'name': '女生'}, 'bookChannel': {'id': 17, 'name': '现代言情'}, 'bookCategory': {'id': 134, 'name': '总裁豪门'}, 'authLevel': {'id': 4, 'name': 'VIP作品'}, 'progress': 0, 'lastUpdateChapter': {'id': 46208193, 'name': '第419章 多年前的慕靳寒也是这样', 'createTime': 1650703410000, 'updateTime': 1650713897000, 'isVIP': {'id': 1, 'name': '是'}, 'publishTime': 1650703451000}, 'status': {'id': 4, 'name': '正常'}, 'bookStatus': {'id': 1, 'name': '连载'}, 'isVIP': {'id': 1, 'name': '是'}, 'bookmarkChapterId': 0, 'bookmarkChapterName': '', 'bookmarkChapterVipFlag': 0, 'topFlag': 0, 'createTimeValue': 1650765522000, 'updateTimeValue': 1650765525000, 'topTimeValue': 0, 'bookupdateTimeValue': 1650713897000, 'recCode': 'null1650767980705139', 'type': 5}, {'bookId': 3334172, 'bookName': '震惊！我的徒弟居然是女帝', 'coverImg': 'https://cdn.static.17k.com/book/189x272/72/41/3334172.jpg-189x272?v=1627365091000', 'authorId': 76767153, 'authorPenName': '东风破浪', 'introduction': '【无敌爽文+女帝+甜宠】\\n世俗富家子秦天，在仙女的带领下加入了昆仑剑派，成为了昆仑小师叔。\\n觉醒签到系统，开局签到获得神秘功法。\\n本来想躺平签到修炼的他，却被躲避追杀的绝情女帝拜师。\\n没办法了，从此只能和女帝过没羞没臊的日子了……', 'bookClass': {'id': 2, 'name': '男生'}, 'bookChannel': {'id': 21, 'name': '玄幻奇幻'}, 'bookCategory': {'id': 8, 'name': '东方玄幻'}, 'authLevel': {'id': 4, 'name': 'VIP作品'}, 'progress': 0, 'lastUpdateChapter': {'id': 46205297, 'name': '第七百七十五章 不死杀域', 'createTime': 1650655926000, 'updateTime': 1650721118000, 'isVIP': {'id': 1, 'name': '是'}, 'publishTime': 1650714663000}, 'status': {'id': 4, 'name': '正常'}, 'bookStatus': {'id': 1, 'name': '连载'}, 'isVIP': {'id': 1, 'name': '是'}, 'bookmarkChapterId': 0, 'bookmarkChapterName': '', 'bookmarkChapterVipFlag': 0, 'topFlag': 0, 'createTimeValue': 1650765522000, 'updateTimeValue': 1650765524000, 'topTimeValue': 0, 'bookupdateTimeValue': 1650736547000, 'recCode': 'null1650767980705139', 'type': 5}, {'bookId': 3375670, 'bookName': '选秀综艺后，玄学大佬制霸娱乐圈', 'coverImg': 'https://cdn.static.17k.com/book/189x272/70/56/3375670.jpg-189x272?v=1636536453000', 'authorId': 84109320, 'authorPenName': '桃枝温酒', 'introduction': '【玄学+选秀+团宠】\\n玄学大佬温婉，意外穿成娱乐圈黑红女星。\\n为了混口饭吃，被迫参加选秀节目，靠着美丽清冷的外表火遍全网，谁成想内里却是沙雕喜剧人。\\n出道夜，黑粉：温婉，你这个花瓶不配出道！\\n温婉挑了挑眉：是吗？我掐指一算，你印堂发黑，最近必有血光之灾。\\n当晚黑粉就出了车祸，温婉神算子的名声传遍全网。\\n风水大师哭着喊着要拜她为师，影后死活要认她当干妹妹。\\n商业巨鳄捧着钞票跪着求她算风水。\\n更没想到她竟是商界豪门家族，失散多年的女儿。\\n几个哥哥轮番把她宠上天。\\n又不知道什么时候招惹上了某位顶流，\\n某顶流：宝，你帮我算算我什么时候能娶到你？\\n温婉：亲，你人设崩了。', 'bookClass': {'id': 3, 'name': '女生'}, 'bookChannel': {'id': 17, 'name': '现代言情'}, 'bookCategory': {'id': 167, 'name': '娱乐明星'}, 'authLevel': {'id': 4, 'name': 'VIP作品'}, 'progress': 0, 'lastUpdateChapter': {'id': 46204467, 'name': '第四百一十一章 我打我自己', 'createTime': 1650641458000, 'updateTime': 1650711941000, 'isVIP': {'id': 1, 'name': '是'}, 'publishTime': 1650706203000}, 'status': {'id': 4, 'name': '正常'}, 'bookStatus': {'id': 1, 'name': '连载'}, 'isVIP': {'id': 1, 'name': '是'}, 'bookmarkChapterId': 0, 'bookmarkChapterName': '', 'bookmarkChapterVipFlag': 0, 'topFlag': 0, 'createTimeValue': 1650765522000, 'updateTimeValue': 1650765523000, 'topTimeValue': 0, 'bookupdateTimeValue': 1650719304000, 'recCode': 'null1650767980705139', 'type': 5}], 'num': 20, 'curPage': 1, 'totalNum': 5, 'totalPage': 1, 'hasMore': 0, 'time': 1650767980000}\n",
      "{\"status\":{\"code\":0,\"msg\":\"succ\"},\"data\":[{\"bookId\":3270981,\"bookName\":\"我七个姐姐绝世无双\",\"coverImg\":\"https:\\/\\/cdn.static.17k.com\\/book\\/189x272\\/81\\/09\\/3270981.jpg-189x272?v=1612972744000\",\"authorId\":38973652,\"authorPenName\":\"橙年岁月\",\"introduction\":\"深居野林神秘老道，一手培养出七位足矣撼动华夏的绝美女徒弟。今日，又一名最小男徒儿罗峰顺利出山。\\n       罗峰：“我是老逼灯培养出最垃圾的徒弟，没什么本事，就想吃吃软饭，苟且度过这一生。”\\n      师父：“什么，他说他最弱？难道我没有告诉过你们，那小子身怀诡秘？”\\n      师姐：“我好像发现我们的小师弟越来越不对劲儿了，为什么世界各大强者都来跪舔他？”\\n      一位来自于世界黑暗深处的顶级势力后裔之子，出生便被抛弃做弃子，偶遇华夏旧时代战力天花板老疯子和七位倾城倾国的大背景七位师姐，从此掌握七大绝学误入都市豪门，卷动江湖风云，走上自证强者之路。\",\"bookClass\":{\"id\":2,\"name\":\"男生\"},\"bookChannel\":{\"id\":3,\"name\":\"都市小说\"},\"bookCategory\":{\"id\":3,\"name\":\"都市生活\"},\"authLevel\":{\"id\":4,\"name\":\"VIP作品\"},\"progress\":0,\"lastUpdateChapter\":{\"id\":46209009,\"name\":\"第七百零三章 三雄并立\",\"createTime\":1650711650000,\"updateTime\":1650713284000,\"isVIP\":{\"id\":1,\"name\":\"是\"},\"publishTime\":1650711650000},\"status\":{\"id\":4,\"name\":\"正常\"},\"bookStatus\":{\"id\":1,\"name\":\"连载\"},\"isVIP\":{\"id\":1,\"name\":\"是\"},\"bookmarkChapterId\":0,\"bookmarkChapterName\":\"\",\"bookmarkChapterVipFlag\":0,\"topFlag\":0,\"createTimeValue\":1650765522000,\"updateTimeValue\":1650765528000,\"topTimeValue\":0,\"bookupdateTimeValue\":1650713284000,\"recCode\":\"null1650767980705139\",\"type\":5},{\"bookId\":3324680,\"bookName\":\"我在菜市口斩妖除魔那些年\",\"coverImg\":\"https:\\/\\/cdn.static.17k.com\\/book\\/189x272\\/80\\/46\\/3324680.jpg-189x272?v=1624413342000\",\"authorId\":74843633,\"authorPenName\":\"大亨\",\"introduction\":\"   　李长生一觉醒来，成为了大明王朝菜市口的一名刽子手！\\n\\n　　偏逢八百年大明朝妖魔横行，乾坤巨变之时，他发现自己斩杀死刑犯，可以获得各种的奖励！\\n\\n　　望气术，养气术，占卜术，替死术，纸人术，敛息术，换脸术，傀儡术，医术，机关术……\\n\\n　　上下几万年，漫漫仙道，无数魑魅魍魉一刀斩之，誓护我神州大地永世不衰！\",\"bookClass\":{\"id\":2,\"name\":\"男生\"},\"bookChannel\":{\"id\":24,\"name\":\"仙侠武侠\"},\"bookCategory\":{\"id\":9,\"name\":\"古典仙侠\"},\"authLevel\":{\"id\":4,\"name\":\"VIP作品\"},\"progress\":0,\"lastUpdateChapter\":{\"id\":46195639,\"name\":\"第990章 你们可知敌人是谁？\",\"createTime\":1650547000000,\"updateTime\":1650721167000,\"isVIP\":{\"id\":1,\"name\":\"是\"},\"publishTime\":1650715203000},\"status\":{\"id\":4,\"name\":\"正常\"},\"bookStatus\":{\"id\":1,\"name\":\"连载\"},\"isVIP\":{\"id\":1,\"name\":\"是\"},\"bookmarkChapterId\":0,\"bookmarkChapterName\":\"\",\"bookmarkChapterVipFlag\":0,\"topFlag\":0,\"createTimeValue\":1650765522000,\"updateTimeValue\":1650765527000,\"topTimeValue\":0,\"bookupdateTimeValue\":1650727395000,\"recCode\":\"null1650767980705139\",\"type\":5},{\"bookId\":3385766,\"bookName\":\"新婚夜，我凭孕吐火爆娱乐圈\",\"coverImg\":\"https:\\/\\/cdn.static.17k.com\\/book\\/189x272\\/66\\/57\\/3385766.jpg-189x272?v=1639546166000\",\"authorId\":76945733,\"authorPenName\":\"星辰的辰\",\"introduction\":\"【孕吐怀崽+甜宠+娱乐圈+马甲+直播+1v1】\\n被称为娱乐圈女星颜值天花板的乔星辰颁奖典礼孕吐了！\\n而且下场手滑点赞猜忌微博，一夕荣登热搜榜第一！\\n微博暴涨粉丝，网友一心搜寻孩儿他爹！\\n那个帝国第一矜贵总裁上门逼婚：“怀了就生，你敢打了我慕靳寒的孩子，我要你命。”\\n新婚夜，高冷总裁看着娇软小白兔暖声说：“第一次养女人，不周到你多担待！”\\n网友们一心挖孩儿他爹是谁，假爹层出不穷，终于惹恼了某总裁……\\n慕靳寒的神颜出现在直播镜头前，“我的种！合法，有证！”\",\"bookClass\":{\"id\":3,\"name\":\"女生\"},\"bookChannel\":{\"id\":17,\"name\":\"现代言情\"},\"bookCategory\":{\"id\":134,\"name\":\"总裁豪门\"},\"authLevel\":{\"id\":4,\"name\":\"VIP作品\"},\"progress\":0,\"lastUpdateChapter\":{\"id\":46208193,\"name\":\"第419章 多年前的慕靳寒也是这样\",\"createTime\":1650703410000,\"updateTime\":1650713897000,\"isVIP\":{\"id\":1,\"name\":\"是\"},\"publishTime\":1650703451000},\"status\":{\"id\":4,\"name\":\"正常\"},\"bookStatus\":{\"id\":1,\"name\":\"连载\"},\"isVIP\":{\"id\":1,\"name\":\"是\"},\"bookmarkChapterId\":0,\"bookmarkChapterName\":\"\",\"bookmarkChapterVipFlag\":0,\"topFlag\":0,\"createTimeValue\":1650765522000,\"updateTimeValue\":1650765525000,\"topTimeValue\":0,\"bookupdateTimeValue\":1650713897000,\"recCode\":\"null1650767980705139\",\"type\":5},{\"bookId\":3334172,\"bookName\":\"震惊！我的徒弟居然是女帝\",\"coverImg\":\"https:\\/\\/cdn.static.17k.com\\/book\\/189x272\\/72\\/41\\/3334172.jpg-189x272?v=1627365091000\",\"authorId\":76767153,\"authorPenName\":\"东风破浪\",\"introduction\":\"【无敌爽文+女帝+甜宠】\\n世俗富家子秦天，在仙女的带领下加入了昆仑剑派，成为了昆仑小师叔。\\n觉醒签到系统，开局签到获得神秘功法。\\n本来想躺平签到修炼的他，却被躲避追杀的绝情女帝拜师。\\n没办法了，从此只能和女帝过没羞没臊的日子了……\",\"bookClass\":{\"id\":2,\"name\":\"男生\"},\"bookChannel\":{\"id\":21,\"name\":\"玄幻奇幻\"},\"bookCategory\":{\"id\":8,\"name\":\"东方玄幻\"},\"authLevel\":{\"id\":4,\"name\":\"VIP作品\"},\"progress\":0,\"lastUpdateChapter\":{\"id\":46205297,\"name\":\"第七百七十五章 不死杀域\",\"createTime\":1650655926000,\"updateTime\":1650721118000,\"isVIP\":{\"id\":1,\"name\":\"是\"},\"publishTime\":1650714663000},\"status\":{\"id\":4,\"name\":\"正常\"},\"bookStatus\":{\"id\":1,\"name\":\"连载\"},\"isVIP\":{\"id\":1,\"name\":\"是\"},\"bookmarkChapterId\":0,\"bookmarkChapterName\":\"\",\"bookmarkChapterVipFlag\":0,\"topFlag\":0,\"createTimeValue\":1650765522000,\"updateTimeValue\":1650765524000,\"topTimeValue\":0,\"bookupdateTimeValue\":1650736547000,\"recCode\":\"null1650767980705139\",\"type\":5},{\"bookId\":3375670,\"bookName\":\"选秀综艺后，玄学大佬制霸娱乐圈\",\"coverImg\":\"https:\\/\\/cdn.static.17k.com\\/book\\/189x272\\/70\\/56\\/3375670.jpg-189x272?v=1636536453000\",\"authorId\":84109320,\"authorPenName\":\"桃枝温酒\",\"introduction\":\"【玄学+选秀+团宠】\\n玄学大佬温婉，意外穿成娱乐圈黑红女星。\\n为了混口饭吃，被迫参加选秀节目，靠着美丽清冷的外表火遍全网，谁成想内里却是沙雕喜剧人。\\n出道夜，黑粉：温婉，你这个花瓶不配出道！\\n温婉挑了挑眉：是吗？我掐指一算，你印堂发黑，最近必有血光之灾。\\n当晚黑粉就出了车祸，温婉神算子的名声传遍全网。\\n风水大师哭着喊着要拜她为师，影后死活要认她当干妹妹。\\n商业巨鳄捧着钞票跪着求她算风水。\\n更没想到她竟是商界豪门家族，失散多年的女儿。\\n几个哥哥轮番把她宠上天。\\n又不知道什么时候招惹上了某位顶流，\\n某顶流：宝，你帮我算算我什么时候能娶到你？\\n温婉：亲，你人设崩了。\",\"bookClass\":{\"id\":3,\"name\":\"女生\"},\"bookChannel\":{\"id\":17,\"name\":\"现代言情\"},\"bookCategory\":{\"id\":167,\"name\":\"娱乐明星\"},\"authLevel\":{\"id\":4,\"name\":\"VIP作品\"},\"progress\":0,\"lastUpdateChapter\":{\"id\":46204467,\"name\":\"第四百一十一章 我打我自己\",\"createTime\":1650641458000,\"updateTime\":1650711941000,\"isVIP\":{\"id\":1,\"name\":\"是\"},\"publishTime\":1650706203000},\"status\":{\"id\":4,\"name\":\"正常\"},\"bookStatus\":{\"id\":1,\"name\":\"连载\"},\"isVIP\":{\"id\":1,\"name\":\"是\"},\"bookmarkChapterId\":0,\"bookmarkChapterName\":\"\",\"bookmarkChapterVipFlag\":0,\"topFlag\":0,\"createTimeValue\":1650765522000,\"updateTimeValue\":1650765523000,\"topTimeValue\":0,\"bookupdateTimeValue\":1650719304000,\"recCode\":\"null1650767980705139\",\"type\":5}],\"num\":20,\"curPage\":1,\"totalNum\":5,\"totalPage\":1,\"hasMore\":0,\"time\":1650767980000}\n"
     ]
    }
   ],
   "source": [
    "import requests\n",
    "\n",
    "# 会话\n",
    "session = requests.session()\n",
    "data = {\n",
    "\"loginName\": \"15623374551\",\n",
    "\"password\": \"shanzhan438\"}        #可以在payload中找到登录密码\n",
    "\n",
    "# 1. 登录\n",
    "\n",
    "url = \"https://passport.17k.com/ck/user/login\"\n",
    "resp = session.post(url, data=data)\n",
    "# print(resp)\n",
    "# print(resp.text)\n",
    "# print(resp.cookies)  # uuid是重要信息\n",
    "\n",
    "\n",
    "# 2. 那书架上的书\n",
    "# 刚才的会话中存在cookie\n",
    "resp1 = session.get(\"https://user.17k.com/ck/author/shelf?page=1&appKey=2406394919\")  #注意，此处的数据是客户端渲染。\n",
    "print(resp1.json())"
   ]
  }
 ],
 "metadata": {
  "interpreter": {
   "hash": "4eaf1be304415beee96765ae99c3f893cc8312c7f1196698e6029668e9aeb3e5"
  },
  "kernelspec": {
   "display_name": "Python 3.9.0 64-bit",
   "language": "python",
   "name": "python3"
  },
  "language_info": {
   "codemirror_mode": {
    "name": "ipython",
    "version": 3
   },
   "file_extension": ".py",
   "mimetype": "text/x-python",
   "name": "python",
   "nbconvert_exporter": "python",
   "pygments_lexer": "ipython3",
   "version": "3.9.0"
  },
  "orig_nbformat": 4
 },
 "nbformat": 4,
 "nbformat_minor": 2
}
