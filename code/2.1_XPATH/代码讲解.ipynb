{
 "cells": [
  {
   "cell_type": "code",
   "execution_count": null,
   "metadata": {},
   "outputs": [],
   "source": [
    "from lxml import etree"
   ]
  },
  {
   "cell_type": "markdown",
   "metadata": {},
   "source": [
    "一个简单的XML实例：\n",
    "<root>\n",
    "  <o9H45qS>\n",
    "    <yuy>-1224439744</yuy>\n",
    "    <g8>\n",
    "      <QG2-HsOK>-204138586</QG2-HsOK>\n",
    "      <c8jxyf6ABV>-327623178</c8jxyf6ABV>\n",
    "      <O>-144247186.16034842</O>\n",
    "    </g8>\n",
    "    <oYa>-735837818</oYa>\n",
    "  </o9H45qS>\n",
    "  <SsTSzsr>-690267829.5490532</SsTSzsr>\n",
    "  <qADNSirV>-203092466.22820997</qADNSirV>\n",
    "</root>"
   ]
  },
  {
   "cell_type": "markdown",
   "metadata": {},
   "source": []
  },
  {
   "cell_type": "code",
   "execution_count": 61,
   "metadata": {},
   "outputs": [
    {
     "name": "stdout",
     "output_type": "stream",
     "text": [
      "[<Element a at 0x2821c015440>, <Element a at 0x2821c0155c0>]\n",
      "['1401 Main Street']\n",
      "['a']\n",
      "['1402 Main Street']\n",
      "['v']\n"
     ]
    }
   ],
   "source": [
    "xml = \"\"\"\n",
    "\n",
    "<address>\n",
    "    <name>\n",
    "        <title>Mrs.</title>\n",
    "        <title>Mr</title>\n",
    "        <div>\n",
    "            <title>123</title>\n",
    "        </div>\n",
    "        <span>\n",
    "            <title>456</title>\n",
    "        </span>\n",
    "    </name>\n",
    "    <street>\n",
    "        <a href=\"a\">1401 Main Street</a>\n",
    "        <a href=\"v\">1402 Main Street</a>\n",
    "    </street>\n",
    "    <city>Anytown</city>\n",
    "    <state>NC</state>\n",
    "    <postal-code>\n",
    "        34829\n",
    "    </postal-code>\n",
    "</address>\n",
    "\"\"\"\n",
    "tree = etree.XML(xml)\n",
    "name = tree.xpath(\"/address/name/text()\") #不能拿到下级标签的内容\n",
    "# print(name)\n",
    "result = tree.xpath(\"/address/name/title/text()\") # 第一个/是根目录;  text()拿文本\n",
    "# print(result)\n",
    "result2 = tree.xpath(\"/address/name//title/text()\") # 通过//检索name下的所有title标题\n",
    "# print(result2)\n",
    "result3 = tree.xpath(\"/address/name/*/title/text()\") # 通配符*代指任意节点\n",
    "# print(result3)\n",
    "result4 = tree.xpath(\"/address/street/a[@href='v']/text()\")  #注意，这里必须用单引号索引，不然会报错\n",
    "# print(result4)\n",
    "result5 = tree.xpath(\"/address/street/a\")\n",
    "print(result5)\n",
    "for a in result5: #从每一个a中提取信息\n",
    "    a_result = a.xpath(\"./text()\")\n",
    "    print(a_result)\n",
    "    a_href = a.xpath(\"./@href\")\n",
    "    print(a_href)\n",
    "\n",
    "\n"
   ]
  }
 ],
 "metadata": {
  "interpreter": {
   "hash": "4eaf1be304415beee96765ae99c3f893cc8312c7f1196698e6029668e9aeb3e5"
  },
  "kernelspec": {
   "display_name": "Python 3.9.0 64-bit",
   "language": "python",
   "name": "python3"
  },
  "language_info": {
   "codemirror_mode": {
    "name": "ipython",
    "version": 3
   },
   "file_extension": ".py",
   "mimetype": "text/x-python",
   "name": "python",
   "nbconvert_exporter": "python",
   "pygments_lexer": "ipython3",
   "version": "3.9.0"
  },
  "orig_nbformat": 4
 },
 "nbformat": 4,
 "nbformat_minor": 2
}
