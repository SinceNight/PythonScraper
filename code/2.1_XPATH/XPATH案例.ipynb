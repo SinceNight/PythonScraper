{
 "cells": [
  {
   "cell_type": "code",
   "execution_count": null,
   "metadata": {},
   "outputs": [],
   "source": [
    "import requests\n",
    "from lxml import etree\n",
    "\n",
    "url = \"https://xian.zbj.com/search/f/?kw=saas\"\n",
    "resp = requests.get(url)\n",
    "# print(resp.text)\n",
    "\n",
    "html = etree.HTML(resp.text)\n",
    "\n",
    "# 拿到每一个服务商的div\n",
    "divs = html.xpath(\"/html/body/div[6]/div/div/div[2]/div[5]/div[1]/div\")\n",
    "# print(divs)\n",
    "for div in divs:  \n",
    "    price = div.xpath(\"./div/div/a[2]/div[2]/div[1]/span[1]/text()\")# 每一个服务商的价格\n",
    "    # print(price)\n",
    "    name = div.xpath(\"./div/div/a[1]/div[1]/p/text()\")\n",
    "    print(name)\n"
   ]
  }
 ],
 "metadata": {
  "interpreter": {
   "hash": "4eaf1be304415beee96765ae99c3f893cc8312c7f1196698e6029668e9aeb3e5"
  },
  "kernelspec": {
   "display_name": "Python 3.9.0 64-bit",
   "language": "python",
   "name": "python3"
  },
  "language_info": {
   "codemirror_mode": {
    "name": "ipython",
    "version": 3
   },
   "file_extension": ".py",
   "mimetype": "text/x-python",
   "name": "python",
   "nbconvert_exporter": "python",
   "pygments_lexer": "ipython3",
   "version": "3.9.0"
  },
  "orig_nbformat": 4
 },
 "nbformat": 4,
 "nbformat_minor": 2
}
