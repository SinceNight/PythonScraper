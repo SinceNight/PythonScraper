{
 "cells": [
  {
   "cell_type": "markdown",
   "metadata": {},
   "source": [
    "# 在post的基础上，爬取带有table的网站,二次请求不会返回源代码，只有数据"
   ]
  },
  {
   "cell_type": "code",
   "execution_count": 2,
   "metadata": {},
   "outputs": [],
   "source": [
    "import requests\n",
    "from bs4 import BeautifulSoup\n",
    "import csv"
   ]
  },
  {
   "cell_type": "code",
   "execution_count": 27,
   "metadata": {},
   "outputs": [
    {
     "name": "stdout",
     "output_type": "stream",
     "text": [
      "1272959 大白菜 0.95\n",
      "1272958 娃娃菜 1.9\n",
      "1272957 小白菜 0.9\n",
      "1272956 圆白菜 1.4\n",
      "1272955 圆白菜 0.6\n",
      "1272954 紫甘蓝 1.15\n",
      "1272953 芹菜 2.05\n",
      "1272952 西芹 2.65\n",
      "1272951 菠菜 0.75\n",
      "1272950 莴笋 1.3\n",
      "1272949 团生菜 1.25\n",
      "1272948 散叶生菜 2.5\n",
      "1272947 罗马生菜 4.55\n",
      "1272946 油菜 1.15\n",
      "1272945 香菜 1.25\n",
      "1272944 茴香 1.25\n",
      "1272943 韭菜 1.0\n",
      "1272942 苦菊 2.1\n",
      "1272941 油麦菜 0.95\n",
      "1272940 菜花 2.7\n"
     ]
    }
   ],
   "source": [
    "url = \"http://www.xinfadi.com.cn/getCat.html\" \n",
    "uers = {\"User-Agent\": \"Mozilla/5.0 (Windows NT 10.0; Win64; x64) AppleWebKit/537.36 (KHTML, like Gecko) Chrome/99.0.4844.82 Safari/537.36\"}\n",
    "resp = requests.post(url,headers=uers)\n",
    "# print(resp.json())\n",
    "# page = BeautifulSoup(resp.text)  \n",
    "# table = page.find(\"id\")\n",
    "# print(table)   因为不是网页源码，所以不能用bs4\n",
    "\n",
    "\n",
    "dic = resp.json()\n",
    "# print(dic)\n",
    "for i in range(20):\n",
    "    id = dic['list'][i]['id'] # 此处报错需要在(ID)前面加0，帮助定位\n",
    "    name = dic[\"list\"][i][\"prodName\"]\n",
    "    avgprice = dic[\"list\"][i][\"avgPrice\"]\n",
    "    print(id,name,avgprice)"
   ]
  }
 ],
 "metadata": {
  "interpreter": {
   "hash": "4eaf1be304415beee96765ae99c3f893cc8312c7f1196698e6029668e9aeb3e5"
  },
  "kernelspec": {
   "display_name": "Python 3.9.0 64-bit",
   "language": "python",
   "name": "python3"
  },
  "language_info": {
   "codemirror_mode": {
    "name": "ipython",
    "version": 3
   },
   "file_extension": ".py",
   "mimetype": "text/x-python",
   "name": "python",
   "nbconvert_exporter": "python",
   "pygments_lexer": "ipython3",
   "version": "3.9.0"
  },
  "orig_nbformat": 4
 },
 "nbformat": 4,
 "nbformat_minor": 2
}
