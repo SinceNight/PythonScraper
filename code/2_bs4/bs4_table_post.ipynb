{
 "cells": [
  {
   "cell_type": "markdown",
   "metadata": {},
   "source": [
    "# 在post的基础上，爬取带有table的网站,二次请求不会返回源代码，只有数据"
   ]
  },
  {
   "cell_type": "code",
   "execution_count": null,
   "metadata": {},
   "outputs": [],
   "source": [
    "import requests\n",
    "from bs4 import BeautifulSoup\n",
    "import csv"
   ]
  },
  {
   "cell_type": "code",
   "execution_count": null,
   "metadata": {},
   "outputs": [],
   "source": [
    "url = \"http://www.xinfadi.com.cn/getCat.html\" \n",
    "uers = {\"User-Agent\": \"Mozilla/5.0 (Windows NT 10.0; Win64; x64) AppleWebKit/537.36 (KHTML, like Gecko) Chrome/99.0.4844.82 Safari/537.36\"}\n",
    "resp = requests.post(url,headers=uers)\n",
    "# print(resp.json())\n",
    "# page = BeautifulSoup(resp.text)  \n",
    "# table = page.find(\"id\")\n",
    "# print(table)   因为不是网页源码，所以不能用bs4\n",
    "\n",
    "\n",
    "dic = resp.json()\n",
    "# print(dic)\n",
    "for i in range(20):\n",
    "    id = dic['list'][i]['id'] # 此处报错需要在(ID)前面加0，帮助定位\n",
    "    name = dic[\"list\"][i][\"prodName\"]\n",
    "    avgprice = dic[\"list\"][i][\"avgPrice\"]\n",
    "    print(id,name,avgprice)"
   ]
  }
 ],
 "metadata": {
  "interpreter": {
   "hash": "4eaf1be304415beee96765ae99c3f893cc8312c7f1196698e6029668e9aeb3e5"
  },
  "kernelspec": {
   "display_name": "Python 3.9.0 64-bit",
   "language": "python",
   "name": "python3"
  },
  "language_info": {
   "codemirror_mode": {
    "name": "ipython",
    "version": 3
   },
   "file_extension": ".py",
   "mimetype": "text/x-python",
   "name": "python",
   "nbconvert_exporter": "python",
   "pygments_lexer": "ipython3",
   "version": "3.9.0"
  },
  "orig_nbformat": 4
 },
 "nbformat": 4,
 "nbformat_minor": 2
}
