{
 "cells": [
  {
   "cell_type": "code",
   "execution_count": null,
   "metadata": {},
   "outputs": [],
   "source": [
    "import requests\n",
    "from bs4 import BeautifulSoup\n",
    "import csv\n",
    "query = input(\"输入要搜索的结果\")\n",
    "url = f\"https://www.sogou.com/web?query={query}\" \n",
    "\n",
    "uers = {\"User-Agent\": \"Mozilla/5.0 (Windows NT 10.0; Win64; x64) AppleWebKit/537.36 (KHTML, like Gecko) Chrome/99.0.4844.82 Safari/537.36\"}\n",
    "resp = requests.get(url,headers=uers)\n",
    "\n",
    "# f = open(\"爬取数据.csv\",mode = \"w\")\n",
    "# csvwriter = csv.writer(f)   # \n",
    "\n",
    "\n",
    "print(resp.text) #源代码\n",
    "#resp.close()\n"
   ]
  },
  {
   "cell_type": "markdown",
   "metadata": {},
   "source": [
    "通过Beautiful Soup解析数据\\\n",
    "从bs中查找数据\\\n",
    "find(标签，属性=值)\\\n",
    "find_all(标签，属性=值)"
   ]
  },
  {
   "cell_type": "code",
   "execution_count": null,
   "metadata": {},
   "outputs": [],
   "source": [
    "page = BeautifulSoup(resp.text)\n",
    "#div = page.find(\"div\",class_=\"vrwrap\")   #class是关键字，可以用过class_代替\n",
    "div = page.find(\"div\",attrs={\"class\":\"vrwrap\"})   # 通过字典来索引\n",
    "# with open('周杰伦', 'w', encoding='utf-8') as f:\n",
    "#     f.write(div)\n",
    "print(div)\n",
    "# csvwriter.writerow(page)"
   ]
  },
  {
   "cell_type": "code",
   "execution_count": 3,
   "metadata": {},
   "outputs": [
    {
     "name": "stdout",
     "output_type": "stream",
     "text": [
      "[{\"rating\":[\"9.6\",\"50\"],\"rank\":1,\"cover_url\":\"https://img2.doubanio.com\\/view\\/photo\\/s_ratio_poster\\/public\\/p2578474613.jpg\",\"is_playable\":true,\"id\":\"1292063\",\"types\":[\"剧情\",\"喜剧\",\"爱情\",\"战争\"],\"regions\":[\"意大利\"],\"title\":\"美丽人生\",\"url\":\"https:\\/\\/movie.douban.com\\/subject\\/1292063\\/\",\"release_date\":\"2020-01-03\",\"actor_count\":29,\"vote_count\":1203223,\"score\":\"9.6\",\"actors\":[\"罗伯托·贝尼尼\",\"尼可莱塔·布拉斯基\",\"乔治·坎塔里尼\",\"朱斯蒂诺·杜拉诺\",\"赛尔乔·比尼·布斯特里克\",\"玛丽萨·帕雷德斯\",\"霍斯特·布赫霍尔茨\",\"利迪娅·阿方西\",\"朱利亚娜·洛约迪切\",\"亚美利哥·丰塔尼\",\"彼得·德·席尔瓦\",\"弗朗西斯·古佐\",\"拉法埃拉·莱博罗尼\",\"克劳迪奥·阿方西\",\"吉尔·巴罗尼\",\"马西莫·比安奇\",\"恩尼奥·孔萨尔维\",\"吉安卡尔洛·科森蒂诺\",\"阿伦·克雷格\",\"汉尼斯·赫尔曼\",\"弗兰科·梅斯科利尼\",\"安东尼奥·普雷斯特\",\"吉娜·诺维勒\",\"理查德·塞梅尔\",\"安德烈提多娜\",\"迪尔克·范登贝格\",\"奥梅罗·安东努蒂\",\"沈晓谦\",\"张欣\"],\"is_watched\":false}]\n"
     ]
    }
   ],
   "source": [
    "import requests\n",
    "url1 = \"https://movie.douban.com/j/chart/top_list?type=24&interval_id=100%3A90&action=&start=0&limit=1\"\n",
    "uers = {\"User-Agent\": \"Mozilla/5.0 (Windows NT 10.0; Win64; x64) AppleWebKit/537.36 (KHTML, like Gecko) Chrome/99.0.4844.82 Safari/537.36\"}\n",
    "resp = requests.get(url1,headers=uers)\n",
    "print(resp.text)"
   ]
  }
 ],
 "metadata": {
  "interpreter": {
   "hash": "4eaf1be304415beee96765ae99c3f893cc8312c7f1196698e6029668e9aeb3e5"
  },
  "kernelspec": {
   "display_name": "Python 3.9.0 64-bit",
   "language": "python",
   "name": "python3"
  },
  "language_info": {
   "codemirror_mode": {
    "name": "ipython",
    "version": 3
   },
   "file_extension": ".py",
   "mimetype": "text/x-python",
   "name": "python",
   "nbconvert_exporter": "python",
   "pygments_lexer": "ipython3",
   "version": "3.9.0"
  },
  "orig_nbformat": 4
 },
 "nbformat": 4,
 "nbformat_minor": 2
}
