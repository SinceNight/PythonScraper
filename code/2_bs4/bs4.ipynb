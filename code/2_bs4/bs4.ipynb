{
 "cells": [
  {
   "cell_type": "markdown",
   "metadata": {},
   "source": [
    "北京新发地的页面源代码中没有了大白菜，查看方式从get变为了POST\n",
    "http://www.xinfadi.com.cn/priceDetail.html"
   ]
  },
  {
   "cell_type": "code",
   "execution_count": 1,
   "metadata": {},
   "outputs": [
    {
     "name": "stdout",
     "output_type": "stream",
     "text": [
      "{\"current\":1,\"limit\":20,\"count\":298834,\"list\":[{\"id\":1270195,\"prodName\":\"大白菜\",\"prodCatid\":1186,\"prodCat\":\"蔬菜\",\"prodPcatid\":null,\"prodPcat\":\"\",\"lowPrice\":\"1.0\",\"highPrice\":\"1.2\",\"avgPrice\":\"1.1\",\"place\":\"鲁冀津\",\"specInfo\":\"\",\"unitInfo\":\"斤\",\"pubDate\":\"2022-04-21 00:00:00\",\"status\":null,\"userIdCreate\":138,\"userIdModified\":null,\"userCreate\":\"admin\",\"userModified\":null,\"gmtCreate\":null,\"gmtModified\":null},{\"id\":1270194,\"prodName\":\"娃娃菜\",\"prodCatid\":1186,\"prodCat\":\"蔬菜\",\"prodPcatid\":null,\"prodPcat\":\"\",\"lowPrice\":\"1.2\",\"highPrice\":\"1.3\",\"avgPrice\":\"1.25\",\"place\":\"云豫\",\"specInfo\":\"大\",\"unitInfo\":\"斤\",\"pubDate\":\"2022-04-21 00:00:00\",\"status\":null,\"userIdCreate\":138,\"userIdModified\":null,\"userCreate\":\"admin\",\"userModified\":null,\"gmtCreate\":null,\"gmtModified\":null},{\"id\":1270193,\"prodName\":\"小白菜\",\"prodCatid\":1186,\"prodCat\":\"蔬菜\",\"prodPcatid\":null,\"prodPcat\":\"\",\"lowPrice\":\"0.8\",\"highPrice\":\"1.0\",\"avgPrice\":\"0.9\",\"place\":\"冀\",\"specInfo\":\"\",\"unitInfo\":\"斤\",\"pubDate\":\"2022-04-21 00:00:00\",\"status\":null,\"userIdCreate\":138,\"userIdModified\":null,\"userCreate\":\"admin\",\"userModified\":null,\"gmtCreate\":null,\"gmtModified\":null},{\"id\":1270192,\"prodName\":\"圆白菜\",\"prodCatid\":1186,\"prodCat\":\"蔬菜\",\"prodPcatid\":null,\"prodPcat\":\"\",\"lowPrice\":\"1.0\",\"highPrice\":\"1.4\",\"avgPrice\":\"1.2\",\"place\":\"冀鲁\",\"specInfo\":\"暄\",\"unitInfo\":\"斤\",\"pubDate\":\"2022-04-21 00:00:00\",\"status\":null,\"userIdCreate\":138,\"userIdModified\":null,\"userCreate\":\"admin\",\"userModified\":null,\"gmtCreate\":null,\"gmtModified\":null},{\"id\":1270191,\"prodName\":\"圆白菜\",\"prodCatid\":1186,\"prodCat\":\"蔬菜\",\"prodPcatid\":null,\"prodPcat\":\"\",\"lowPrice\":\"0.7\",\"highPrice\":\"0.8\",\"avgPrice\":\"0.75\",\"place\":\"苏\",\"specInfo\":\"露地\",\"unitInfo\":\"斤\",\"pubDate\":\"2022-04-21 00:00:00\",\"status\":null,\"userIdCreate\":138,\"userIdModified\":null,\"userCreate\":\"admin\",\"userModified\":null,\"gmtCreate\":null,\"gmtModified\":null},{\"id\":1270190,\"prodName\":\"紫甘蓝\",\"prodCatid\":1186,\"prodCat\":\"蔬菜\",\"prodPcatid\":null,\"prodPcat\":\"\",\"lowPrice\":\"1.1\",\"highPrice\":\"1.2\",\"avgPrice\":\"1.15\",\"place\":\"滇闽\",\"specInfo\":\"\",\"unitInfo\":\"斤\",\"pubDate\":\"2022-04-21 00:00:00\",\"status\":null,\"userIdCreate\":138,\"userIdModified\":null,\"userCreate\":\"admin\",\"userModified\":null,\"gmtCreate\":null,\"gmtModified\":null},{\"id\":1270189,\"prodName\":\"芹菜\",\"prodCatid\":1186,\"prodCat\":\"蔬菜\",\"prodPcatid\":null,\"prodPcat\":\"\",\"lowPrice\":\"1.7\",\"highPrice\":\"2.3\",\"avgPrice\":\"2.0\",\"place\":\"冀津京\",\"specInfo\":\"\",\"unitInfo\":\"斤\",\"pubDate\":\"2022-04-21 00:00:00\",\"status\":null,\"userIdCreate\":138,\"userIdModified\":null,\"userCreate\":\"admin\",\"userModified\":null,\"gmtCreate\":null,\"gmtModified\":null},{\"id\":1270188,\"prodName\":\"西芹\",\"prodCatid\":1186,\"prodCat\":\"蔬菜\",\"prodPcatid\":null,\"prodPcat\":\"\",\"lowPrice\":\"2.5\",\"highPrice\":\"2.8\",\"avgPrice\":\"2.65\",\"place\":\"豫辽\",\"specInfo\":\"\",\"unitInfo\":\"斤\",\"pubDate\":\"2022-04-21 00:00:00\",\"status\":null,\"userIdCreate\":138,\"userIdModified\":null,\"userCreate\":\"admin\",\"userModified\":null,\"gmtCreate\":null,\"gmtModified\":null},{\"id\":1270187,\"prodName\":\"菠菜\",\"prodCatid\":1186,\"prodCat\":\"蔬菜\",\"prodPcatid\":null,\"prodPcat\":\"\",\"lowPrice\":\"0.8\",\"highPrice\":\"1.6\",\"avgPrice\":\"1.2\",\"place\":\"冀鲁\",\"specInfo\":\"\",\"unitInfo\":\"斤\",\"pubDate\":\"2022-04-21 00:00:00\",\"status\":null,\"userIdCreate\":138,\"userIdModified\":null,\"userCreate\":\"admin\",\"userModified\":null,\"gmtCreate\":null,\"gmtModified\":null},{\"id\":1270186,\"prodName\":\"莴笋\",\"prodCatid\":1186,\"prodCat\":\"蔬菜\",\"prodPcatid\":null,\"prodPcat\":\"\",\"lowPrice\":\"0.8\",\"highPrice\":\"1.6\",\"avgPrice\":\"1.2\",\"place\":\"鲁津\",\"specInfo\":\"\",\"unitInfo\":\"斤\",\"pubDate\":\"2022-04-21 00:00:00\",\"status\":null,\"userIdCreate\":138,\"userIdModified\":null,\"userCreate\":\"admin\",\"userModified\":null,\"gmtCreate\":null,\"gmtModified\":null},{\"id\":1270185,\"prodName\":\"团生菜\",\"prodCatid\":1186,\"prodCat\":\"蔬菜\",\"prodPcatid\":null,\"prodPcat\":\"\",\"lowPrice\":\"1.0\",\"highPrice\":\"1.5\",\"avgPrice\":\"1.25\",\"place\":\"云京冀\",\"specInfo\":\"白球\\\\净\",\"unitInfo\":\"斤\",\"pubDate\":\"2022-04-21 00:00:00\",\"status\":null,\"userIdCreate\":138,\"userIdModified\":null,\"userCreate\":\"admin\",\"userModified\":null,\"gmtCreate\":null,\"gmtModified\":null},{\"id\":1270184,\"prodName\":\"散叶生菜\",\"prodCatid\":1186,\"prodCat\":\"蔬菜\",\"prodPcatid\":null,\"prodPcat\":\"\",\"lowPrice\":\"2.0\",\"highPrice\":\"2.6\",\"avgPrice\":\"2.3\",\"place\":\"冀辽\",\"specInfo\":\"毛\\\\净\",\"unitInfo\":\"斤\",\"pubDate\":\"2022-04-21 00:00:00\",\"status\":null,\"userIdCreate\":138,\"userIdModified\":null,\"userCreate\":\"admin\",\"userModified\":null,\"gmtCreate\":null,\"gmtModified\":null},{\"id\":1270183,\"prodName\":\"罗马生菜\",\"prodCatid\":1186,\"prodCat\":\"蔬菜\",\"prodPcatid\":null,\"prodPcat\":\"\",\"lowPrice\":\"3.2\",\"highPrice\":\"3.3\",\"avgPrice\":\"3.25\",\"place\":\"冀滇\",\"specInfo\":\"\",\"unitInfo\":\"斤\",\"pubDate\":\"2022-04-21 00:00:00\",\"status\":null,\"userIdCreate\":138,\"userIdModified\":null,\"userCreate\":\"admin\",\"userModified\":null,\"gmtCreate\":null,\"gmtModified\":null},{\"id\":1270182,\"prodName\":\"油菜\",\"prodCatid\":1186,\"prodCat\":\"蔬菜\",\"prodPcatid\":null,\"prodPcat\":\"\",\"lowPrice\":\"1.0\",\"highPrice\":\"1.2\",\"avgPrice\":\"1.1\",\"place\":\"冀鲁苏\",\"specInfo\":\"\",\"unitInfo\":\"斤\",\"pubDate\":\"2022-04-21 00:00:00\",\"status\":null,\"userIdCreate\":138,\"userIdModified\":null,\"userCreate\":\"admin\",\"userModified\":null,\"gmtCreate\":null,\"gmtModified\":null},{\"id\":1270181,\"prodName\":\"香菜\",\"prodCatid\":1186,\"prodCat\":\"蔬菜\",\"prodPcatid\":null,\"prodPcat\":\"\",\"lowPrice\":\"1.5\",\"highPrice\":\"2.0\",\"avgPrice\":\"1.75\",\"place\":\"冀鲁豫\",\"specInfo\":\"\",\"unitInfo\":\"斤\",\"pubDate\":\"2022-04-21 00:00:00\",\"status\":null,\"userIdCreate\":138,\"userIdModified\":null,\"userCreate\":\"admin\",\"userModified\":null,\"gmtCreate\":null,\"gmtModified\":null},{\"id\":1270180,\"prodName\":\"茴香\",\"prodCatid\":1186,\"prodCat\":\"蔬菜\",\"prodPcatid\":null,\"prodPcat\":\"\",\"lowPrice\":\"1.5\",\"highPrice\":\"2.0\",\"avgPrice\":\"1.75\",\"place\":\"冀\",\"specInfo\":\"\",\"unitInfo\":\"斤\",\"pubDate\":\"2022-04-21 00:00:00\",\"status\":null,\"userIdCreate\":138,\"userIdModified\":null,\"userCreate\":\"admin\",\"userModified\":null,\"gmtCreate\":null,\"gmtModified\":null},{\"id\":1270179,\"prodName\":\"韭菜\",\"prodCatid\":1186,\"prodCat\":\"蔬菜\",\"prodPcatid\":null,\"prodPcat\":\"\",\"lowPrice\":\"0.8\",\"highPrice\":\"1.0\",\"avgPrice\":\"0.9\",\"place\":\"冀晋\",\"specInfo\":\"\",\"unitInfo\":\"斤\",\"pubDate\":\"2022-04-21 00:00:00\",\"status\":null,\"userIdCreate\":138,\"userIdModified\":null,\"userCreate\":\"admin\",\"userModified\":null,\"gmtCreate\":null,\"gmtModified\":null},{\"id\":1270178,\"prodName\":\"苦菊\",\"prodCatid\":1186,\"prodCat\":\"蔬菜\",\"prodPcatid\":null,\"prodPcat\":\"\",\"lowPrice\":\"1.5\",\"highPrice\":\"2.0\",\"avgPrice\":\"1.75\",\"place\":\"冀辽\",\"specInfo\":\"\",\"unitInfo\":\"斤\",\"pubDate\":\"2022-04-21 00:00:00\",\"status\":null,\"userIdCreate\":138,\"userIdModified\":null,\"userCreate\":\"admin\",\"userModified\":null,\"gmtCreate\":null,\"gmtModified\":null},{\"id\":1270177,\"prodName\":\"油麦菜\",\"prodCatid\":1186,\"prodCat\":\"蔬菜\",\"prodPcatid\":null,\"prodPcat\":\"\",\"lowPrice\":\"1.0\",\"highPrice\":\"1.3\",\"avgPrice\":\"1.15\",\"place\":\"云冀\",\"specInfo\":\"\",\"unitInfo\":\"斤\",\"pubDate\":\"2022-04-21 00:00:00\",\"status\":null,\"userIdCreate\":138,\"userIdModified\":null,\"userCreate\":\"admin\",\"userModified\":null,\"gmtCreate\":null,\"gmtModified\":null},{\"id\":1270176,\"prodName\":\"菜花\",\"prodCatid\":1186,\"prodCat\":\"蔬菜\",\"prodPcatid\":null,\"prodPcat\":\"\",\"lowPrice\":\"2.7\",\"highPrice\":\"3.0\",\"avgPrice\":\"2.85\",\"place\":\"云\",\"specInfo\":\"\",\"unitInfo\":\"斤\",\"pubDate\":\"2022-04-21 00:00:00\",\"status\":null,\"userIdCreate\":138,\"userIdModified\":null,\"userCreate\":\"admin\",\"userModified\":null,\"gmtCreate\":null,\"gmtModified\":null}]}\n"
     ]
    }
   ],
   "source": [
    "from bs4 import BeautifulSoup\n",
    "import requests\n",
    "\n",
    "url =\"http://www.xinfadi.com.cn/getPriceData.html\"\n",
    "\n",
    "resp = requests.post(url)\n",
    "print(resp.text)"
   ]
  }
 ],
 "metadata": {
  "interpreter": {
   "hash": "4eaf1be304415beee96765ae99c3f893cc8312c7f1196698e6029668e9aeb3e5"
  },
  "kernelspec": {
   "display_name": "Python 3.9.0 64-bit",
   "language": "python",
   "name": "python3"
  },
  "language_info": {
   "codemirror_mode": {
    "name": "ipython",
    "version": 3
   },
   "file_extension": ".py",
   "mimetype": "text/x-python",
   "name": "python",
   "nbconvert_exporter": "python",
   "pygments_lexer": "ipython3",
   "version": "3.9.0"
  },
  "orig_nbformat": 4
 },
 "nbformat": 4,
 "nbformat_minor": 2
}
