{
 "cells": [
  {
   "cell_type": "markdown",
   "metadata": {},
   "source": [
    "1.拿到主页面的源代码，然后提取子页面中的<font color = red>herf</font>抬头连接\\\n",
    "2.通过herf拿到子页面的内容，从子页面找到图片的下载地址  img -> src\\\n",
    "3.下载图片"
   ]
  },
  {
   "cell_type": "code",
   "execution_count": null,
   "metadata": {},
   "outputs": [],
   "source": [
    "import requests\n",
    "from bs4 import BeautifulSoup\n",
    "import time #假如延迟\n",
    "url = \"https://www.umeitu.com/\"\n",
    "uers = {\"User-Agent\": \"Mozilla/5.0 (Windows NT 10.0; Win64; x64) AppleWebKit/537.36 (KHTML, like Gecko) Chrome/99.0.4844.82 Safari/537.36\",'Connection': 'close'}\n",
    "resp = requests.get(url,headers=uers,verify=False) \n",
    "resp.encoding = resp.apparent_encoding\n",
    "print(resp.text)"
   ]
  },
  {
   "cell_type": "markdown",
   "metadata": {},
   "source": [
    "通过bs4来索引"
   ]
  },
  {
   "cell_type": "code",
   "execution_count": null,
   "metadata": {},
   "outputs": [],
   "source": [
    "main_page = BeautifulSoup(resp.text)\n",
    "div = main_page.find(\"div\",class_=\"pic-box\")\n",
    "# 由于图片都是在img中，因此可以通过find_all提取所有img标签\n",
    "alist = div.find_all(\"img\")\n",
    "# print(alist)\n",
    "for i in alist:\n",
    "    src = i.get('data-src') #直接通过get拿到img中的data-src\n",
    "    # 下载图片\n",
    "    img_resp = requests.get(src)\n",
    "    img_resp.content\n",
    "    img_name = src.split(\"/\")[-1] # 拿到url中的最后一个/以后的内容 \n",
    "    with open (\"img/\"+img_name,mode=\"wb\") as f:  # img+表示放进img文件夹中，文件夹需要提前创建好\n",
    "        f.write(img_resp.content) #content是拿到字节内容，相当于图片内容\n",
    "    \n",
    "    print(\"第一次over\",img_name)\n",
    "    time.sleep(1)\n",
    "print(\"all over\")\n",
    "    "
   ]
  },
  {
   "cell_type": "markdown",
   "metadata": {},
   "source": [
    "## 图片可能会存在不同的标题中，如a下的herf,img下的data-src中。使用的时候需要根据需求调整\n"
   ]
  }
 ],
 "metadata": {
  "interpreter": {
   "hash": "4eaf1be304415beee96765ae99c3f893cc8312c7f1196698e6029668e9aeb3e5"
  },
  "kernelspec": {
   "display_name": "Python 3.9.0 64-bit",
   "language": "python",
   "name": "python3"
  },
  "language_info": {
   "codemirror_mode": {
    "name": "ipython",
    "version": 3
   },
   "file_extension": ".py",
   "mimetype": "text/x-python",
   "name": "python",
   "nbconvert_exporter": "python",
   "pygments_lexer": "ipython3",
   "version": "3.9.0"
  },
  "orig_nbformat": 4
 },
 "nbformat": 4,
 "nbformat_minor": 2
}
