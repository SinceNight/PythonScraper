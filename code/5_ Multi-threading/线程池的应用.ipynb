{
 "cells": [
  {
   "cell_type": "markdown",
   "metadata": {},
   "source": [
    "1.如何提取单个页面的数据\\\n",
    "2.上线程池，多个页面同时抓取"
   ]
  },
  {
   "cell_type": "code",
   "execution_count": null,
   "metadata": {},
   "outputs": [],
   "source": [
    "import requests\n",
    "from bs4 import BeautifulSoup\n",
    "from concurrent.futures import ThreadPoolExecutor \n",
    "\n",
    "# url = (f\"https://www.sogou.com/web?query=%E5%91%A8%E6%9D%B0%E4%BC%A6&page={i}&ie=utf8\")\n",
    "def download_onepage(url):\n",
    "    resp = requests.get(url)\n",
    "    print(url,\"提取完毕\")\n",
    "    # print(resp.text)       \n",
    "# download_onepage(url)\n",
    "\n",
    "if __name__==\"__main__\":\n",
    "    # for i in range(1,10): # 效率低下\n",
    "    #     download_onepage(f\"https://www.sogou.com/web?query=%E5%91%A8%E6%9D%B0%E4%BC%A6&page={i}&ie=utf8\")\n",
    "    with ThreadPoolExecutor(50) as t:\n",
    "        for i in range(1,50):\n",
    "            t.submit(download_onepage,url = f\"https://www.sogou.com/web?query=%E5%91%A8%E6%9D%B0%E4%BC%A6&page={i}&ie=utf8\") "
   ]
  },
  {
   "cell_type": "markdown",
   "metadata": {},
   "source": [
    "Q:为什么print不能放在t.submit之下？\n",
    "A:因为在name中，url没有定义，而是直接当成了参数传进了download中"
   ]
  }
 ],
 "metadata": {
  "interpreter": {
   "hash": "4eaf1be304415beee96765ae99c3f893cc8312c7f1196698e6029668e9aeb3e5"
  },
  "kernelspec": {
   "display_name": "Python 3.9.0 64-bit",
   "language": "python",
   "name": "python3"
  },
  "language_info": {
   "codemirror_mode": {
    "name": "ipython",
    "version": 3
   },
   "file_extension": ".py",
   "mimetype": "text/x-python",
   "name": "python",
   "nbconvert_exporter": "python",
   "pygments_lexer": "ipython3",
   "version": "3.9.0"
  },
  "orig_nbformat": 4
 },
 "nbformat": 4,
 "nbformat_minor": 2
}
