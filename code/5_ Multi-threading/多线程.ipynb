{
 "cells": [
  {
   "cell_type": "markdown",
   "metadata": {},
   "source": [
    "进程是资源单位，每一个进程至少要有一个线程\\\n",
    "线程是执行单位\\\n",
    "if name == 'main’的意思是：当.py文件被直接运行时，if name == 'main’之下的代码块将被运行；当.py文件以模块形式被导入时，if name == 'main’之下的代码块不被运行。"
   ]
  },
  {
   "cell_type": "code",
   "execution_count": null,
   "metadata": {},
   "outputs": [],
   "source": [
    "# 启动每一个程序都会默认有一个主线程,此过程是一个单线程\n",
    "def func():\n",
    "    for i in range(1000):\n",
    "        print(\"func\",i)\n",
    "\n",
    "if __name__ == \"__main__\":\n",
    "    func()\n",
    "    for i in range(1000):\n",
    "        print(\"main\",i)   "
   ]
  },
  {
   "cell_type": "code",
   "execution_count": null,
   "metadata": {},
   "outputs": [],
   "source": [
    "# 多线程\n",
    "from threading import Thread\n",
    "import time # 加入延迟方便观察\n",
    "def func():\n",
    "    for i in range(1000):\n",
    "        print(\"func\",i)\n",
    "        time.sleep(1)\n",
    "\n",
    "if __name__ == \"__main__\":\n",
    "    t = Thread(target=func) #创建线程并给线程安排任务\n",
    "    t.start() #多线程状态为可以开始工作状态，具体的执行时间由CPU决定\n",
    "    for i in range(1000):\n",
    "        print(\"main\",i)   \n",
    "        time.sleep(1)"
   ]
  },
  {
   "cell_type": "markdown",
   "metadata": {},
   "source": [
    "## 第二种写法"
   ]
  },
  {
   "cell_type": "code",
   "execution_count": null,
   "metadata": {},
   "outputs": [],
   "source": [
    "class mythread(Thread):\n",
    "    def run(self):\n",
    "        for i in(1000):\n",
    "            print(\"子线程\",i)\n",
    "\n",
    "if __name__ == \"__main__\":\n",
    "    t = mythread() \n",
    "    t.start() \n",
    "    for i in range(1000):\n",
    "        print(\"main\",i)      "
   ]
  }
 ],
 "metadata": {
  "interpreter": {
   "hash": "4eaf1be304415beee96765ae99c3f893cc8312c7f1196698e6029668e9aeb3e5"
  },
  "kernelspec": {
   "display_name": "Python 3.9.0 64-bit",
   "language": "python",
   "name": "python3"
  },
  "language_info": {
   "codemirror_mode": {
    "name": "ipython",
    "version": 3
   },
   "file_extension": ".py",
   "mimetype": "text/x-python",
   "name": "python",
   "nbconvert_exporter": "python",
   "pygments_lexer": "ipython3",
   "version": "3.9.0"
  },
  "orig_nbformat": 4
 },
 "nbformat": 4,
 "nbformat_minor": 2
}
