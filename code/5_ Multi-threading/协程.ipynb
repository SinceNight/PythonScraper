{
 "cells": [
  {
   "cell_type": "markdown",
   "metadata": {},
   "source": [
    "产生阻塞的几个语法：\\\n",
    "input\\\n",
    "time.sleep\\\n",
    "request.get()\\\n",
    "一般情况下，当程序处于IO状态时，线程都会处于阻塞状态\n",
    "\n",
    "## 协程：当遇到了IO状态时，可以选择性的切换到其他任务上\n",
    "## 在宏观上，我们能看到是多个任务一起执行的\n",
    "## 多任务异步操作\n",
    "## 单线程条件"
   ]
  },
  {
   "cell_type": "code",
   "execution_count": 16,
   "metadata": {},
   "outputs": [
    {
     "name": "stdout",
     "output_type": "stream",
     "text": [
      "123\n"
     ]
    }
   ],
   "source": [
    "import asyncio\n",
    "import time\n",
    "\n",
    "async def func():\n",
    "    print(123)\n",
    "\n",
    "if __name__ == \"__main__\": \n",
    "    #由于jupyter中会直接运行LOOP，所以要将asynico.run(func())改成这种形式\n",
    "    await func()  \n"
   ]
  },
  {
   "cell_type": "code",
   "execution_count": 17,
   "metadata": {},
   "outputs": [],
   "source": [
    "# 不带协程要9秒\n",
    "async def func1():\n",
    "    print(\"我叫bky\")\n",
    "    time.sleep(3)\n",
    "    print(\"我叫bky\")\n",
    "\n",
    "async def func2():\n",
    "    print(\"我叫yty\")\n",
    "    time.sleep(2)\n",
    "    print(\"我叫yty\")\n",
    "\n",
    "async def func3():\n",
    "    print(\"我叫yjh\")\n",
    "    time.sleep(4)\n",
    "    print(\"我叫yjh\")\n",
    "\n",
    "# if __name__ == \"__main__\":\n",
    "#     await func1() \n",
    "#     await func2() \n",
    "#     await func3() "
   ]
  },
  {
   "cell_type": "code",
   "execution_count": 21,
   "metadata": {},
   "outputs": [
    {
     "name": "stderr",
     "output_type": "stream",
     "text": [
      "C:\\Users\\zella\\AppData\\Local\\Temp\\ipykernel_39320\\1791412315.py:21: DeprecationWarning: The explicit passing of coroutine objects to asyncio.wait() is deprecated since Python 3.8, and scheduled for removal in Python 3.11.\n",
      "  await asyncio.wait(tasks)\n"
     ]
    },
    {
     "name": "stdout",
     "output_type": "stream",
     "text": [
      "我叫yjh\n",
      "我叫yty\n",
      "我叫bky\n",
      "我叫yty\n",
      "我叫bky\n",
      "我叫yjh\n"
     ]
    }
   ],
   "source": [
    "async def func1():\n",
    "    print(\"我叫bky\")\n",
    "    await asyncio.sleep(3) # 同步睡眠换异步睡眠\n",
    "    print(\"我叫bky\")\n",
    "\n",
    "async def func2():\n",
    "    print(\"我叫yty\")\n",
    "    await asyncio.sleep(2)\n",
    "    print(\"我叫yty\")\n",
    "\n",
    "async def func3():\n",
    "    print(\"我叫yjh\")\n",
    "    await asyncio.sleep(4)\n",
    "    print(\"我叫yjh\")\n",
    "\n",
    "if __name__==\"__main__\":\n",
    "    f1 =func1()\n",
    "    f2 =func2()\n",
    "    f3 =func3()\n",
    "    tasks = [f1,f2,f3]\n",
    "    await asyncio.wait(tasks)  "
   ]
  },
  {
   "cell_type": "markdown",
   "metadata": {},
   "source": [
    "由于Jupyter的特殊性，所以函数一般要这么写"
   ]
  }
 ],
 "metadata": {
  "interpreter": {
   "hash": "4eaf1be304415beee96765ae99c3f893cc8312c7f1196698e6029668e9aeb3e5"
  },
  "kernelspec": {
   "display_name": "Python 3.9.0 64-bit",
   "language": "python",
   "name": "python3"
  },
  "language_info": {
   "codemirror_mode": {
    "name": "ipython",
    "version": 3
   },
   "file_extension": ".py",
   "mimetype": "text/x-python",
   "name": "python",
   "nbconvert_exporter": "python",
   "pygments_lexer": "ipython3",
   "version": "3.9.0"
  },
  "orig_nbformat": 4
 },
 "nbformat": 4,
 "nbformat_minor": 2
}
