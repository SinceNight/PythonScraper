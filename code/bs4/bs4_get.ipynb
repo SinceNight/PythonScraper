{
 "cells": [
  {
   "cell_type": "code",
   "execution_count": null,
   "metadata": {},
   "outputs": [],
   "source": [
    "import requests\n",
    "from bs4 import BeautifulSoup\n",
    "import csv\n",
    "query = input(\"输入要搜索的结果\")\n",
    "url = f\"https://www.sogou.com/web?query={query}\" \n",
    "\n",
    "uers = {\"User-Agent\": \"Mozilla/5.0 (Windows NT 10.0; Win64; x64) AppleWebKit/537.36 (KHTML, like Gecko) Chrome/99.0.4844.82 Safari/537.36\"}\n",
    "resp = requests.get(url,headers=uers)\n",
    "\n",
    "# f = open(\"爬取数据.csv\",mode = \"w\")\n",
    "# csvwriter = csv.writer(f)   # \n",
    "\n",
    "\n",
    "print(resp.text) #源代码\n",
    "#resp.close()\n"
   ]
  },
  {
   "cell_type": "markdown",
   "metadata": {},
   "source": [
    "通过Beautiful Soup解析数据\\\n",
    "从bs中查找数据\\\n",
    "find(标签，属性=值)\\\n",
    "find_all(标签，属性=值)"
   ]
  },
  {
   "cell_type": "code",
   "execution_count": null,
   "metadata": {},
   "outputs": [],
   "source": [
    "page = BeautifulSoup(resp.text)\n",
    "#div = page.find(\"div\",class_=\"vrwrap\")   #class是关键字，可以用过class_代替\n",
    "div = page.find(\"div\",attrs={\"class\":\"vrwrap\"})   # 通过字典来索引\n",
    "# with open('周杰伦', 'w', encoding='utf-8') as f:\n",
    "#     f.write(div)\n",
    "print(div)\n",
    "# csvwriter.writerow(page)"
   ]
  }
 ],
 "metadata": {
  "interpreter": {
   "hash": "4eaf1be304415beee96765ae99c3f893cc8312c7f1196698e6029668e9aeb3e5"
  },
  "kernelspec": {
   "display_name": "Python 3.9.0 64-bit",
   "language": "python",
   "name": "python3"
  },
  "language_info": {
   "codemirror_mode": {
    "name": "ipython",
    "version": 3
   },
   "file_extension": ".py",
   "mimetype": "text/x-python",
   "name": "python",
   "nbconvert_exporter": "python",
   "pygments_lexer": "ipython3",
   "version": "3.9.0"
  },
  "orig_nbformat": 4
 },
 "nbformat": 4,
 "nbformat_minor": 2
}
