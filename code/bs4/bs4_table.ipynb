{
 "cells": [
  {
   "cell_type": "markdown",
   "metadata": {},
   "source": [
    "# 在get的基础上，爬取带有table的网站"
   ]
  },
  {
   "cell_type": "code",
   "execution_count": 38,
   "metadata": {},
   "outputs": [],
   "source": [
    "import requests\n",
    "from bs4 import BeautifulSoup\n",
    "import csv"
   ]
  },
  {
   "cell_type": "code",
   "execution_count": 39,
   "metadata": {},
   "outputs": [],
   "source": [
    "url = \"http://www.weather.com.cn/textFC/hb.shtml\" \n",
    "uers = {\"User-Agent\": \"Mozilla/5.0 (Windows NT 10.0; Win64; x64) AppleWebKit/537.36 (KHTML, like Gecko) Chrome/99.0.4844.82 Safari/537.36\"}\n",
    "resp = requests.get(url,headers=uers)\n",
    "# print(resp.text)"
   ]
  },
  {
   "cell_type": "code",
   "execution_count": 40,
   "metadata": {},
   "outputs": [],
   "source": [
    "# 将数据保存\n",
    "f =open(\"天气.csv\",mode=\"w\",encoding='utf-8')\n",
    "csvwriter = csv.writer(f)\n"
   ]
  },
  {
   "cell_type": "code",
   "execution_count": 41,
   "metadata": {},
   "outputs": [
    {
     "name": "stdout",
     "output_type": "stream",
     "text": [
      "text/html\n",
      "ISO-8859-1\n",
      "utf-8\n",
      "['utf-8']\n"
     ]
    }
   ],
   "source": [
    "# 解决编码问题\n",
    "print(resp.headers['content-type'])\n",
    "print(resp.encoding)\n",
    "print(resp.apparent_encoding)\n",
    "print(requests.utils.get_encodings_from_content(resp.text))\n",
    "resp.encoding = resp.apparent_encoding"
   ]
  },
  {
   "cell_type": "code",
   "execution_count": 42,
   "metadata": {},
   "outputs": [
    {
     "name": "stdout",
     "output_type": "stream",
     "text": [
      "天气现象 风向风力 最高气温 天气现象\n",
      "\n",
      "北京\n",
      " \n",
      "北京 晴 \n",
      "西南风\n",
      "3-4级\n",
      "\n",
      "海淀 晴 \n",
      "西南风\n",
      "3-4级 29\n",
      "\n",
      "朝阳 晴 \n",
      "西南风\n",
      "3-4级 28\n",
      "\n",
      "顺义 晴 \n",
      "南风\n",
      "<3级 28\n",
      "\n",
      "怀柔 晴 \n",
      "南风\n",
      "<3级 29\n",
      "\n",
      "通州 晴 \n",
      "西南风\n",
      "3-4级 28\n",
      "\n",
      "昌平 晴 \n",
      "东南风\n",
      "<3级 28\n",
      "\n",
      "延庆 晴 \n",
      "东南风\n",
      "<3级 25\n",
      "\n",
      "丰台 晴 \n",
      "西南风\n",
      "3-4级 29\n",
      "\n",
      "石景山 晴 \n",
      "西南风\n",
      "3-4级 28\n",
      "\n",
      "大兴 晴 \n",
      "西南风\n",
      "3-4级 29\n",
      "\n",
      "房山 晴 \n",
      "西南风\n",
      "3-4级 29\n",
      "\n",
      "密云 晴 \n",
      "南风\n",
      "<3级 28\n",
      "\n",
      "门头沟 晴 \n",
      "西南风\n",
      "3-4级 29\n",
      "\n",
      "平谷 晴 \n",
      "南风\n",
      "<3级 27\n",
      "\n",
      "东城 晴 \n",
      "西南风\n",
      "3-4级 28\n",
      "\n",
      "西城 晴 \n",
      "西南风\n",
      "3-4级 29\n"
     ]
    }
   ],
   "source": [
    "page = BeautifulSoup(resp.text,from_encoding=\"gb18030\")\n",
    "#div = page.find(\"div\",class_=\"vrwrap\")   \n",
    "table = page.find(\"table\",attrs={\"width\":\"100%\"})   \n",
    "\n",
    "# 将数据行表格化：\n",
    "trs = table.find_all(\"tr\")[1:]\n",
    "for tr in trs:\n",
    "    tds = tr.find_all(\"td\") # 拿到每一个tr中的所有td\n",
    "    sheng = tds[0].text # 表示每一个标签对应的内容\n",
    "    city = tds[1].text # 表示每一个标签对应的内容\n",
    "    morning = tds[2].text # 表示每一个标签对应的内容\n",
    "    evening = tds[3].text # 表示每一个标签对应的内容\n",
    "    print(sheng,city,morning,evening)\n",
    "    csvwriter.writerow([sheng,city,morning,evening])\n",
    "    #print(table)\n",
    "f.close()\n",
    "# csvwriter.writerow(page)"
   ]
  }
 ],
 "metadata": {
  "interpreter": {
   "hash": "4eaf1be304415beee96765ae99c3f893cc8312c7f1196698e6029668e9aeb3e5"
  },
  "kernelspec": {
   "display_name": "Python 3.9.0 64-bit",
   "language": "python",
   "name": "python3"
  },
  "language_info": {
   "codemirror_mode": {
    "name": "ipython",
    "version": 3
   },
   "file_extension": ".py",
   "mimetype": "text/x-python",
   "name": "python",
   "nbconvert_exporter": "python",
   "pygments_lexer": "ipython3",
   "version": "3.9.0"
  },
  "orig_nbformat": 4
 },
 "nbformat": 4,
 "nbformat_minor": 2
}
