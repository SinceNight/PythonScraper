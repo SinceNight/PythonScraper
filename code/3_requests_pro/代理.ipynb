{
 "cells": [
  {
   "cell_type": "markdown",
   "metadata": {},
   "source": [
    "## 代理：通过第三方机器发送数据\n",
    "免费获取IP地址(建议透明)：https://www.zdaye.com/dayProxy/ip/333267.html\n",
    "ip：端口"
   ]
  },
  {
   "cell_type": "code",
   "execution_count": null,
   "metadata": {},
   "outputs": [],
   "source": [
    "import requests\n",
    "\n",
    "# 39.130.150.44\n",
    "proxies = {\n",
    "    \"https\":\"https://101.132.186.39:9090\"\n",
    "}\n",
    "\n",
    "url = \"https://www.baidu.com\"\n",
    "resp = requests.get(url,proxies=proxies)\n",
    "print(resp.text)"
   ]
  }
 ],
 "metadata": {
  "interpreter": {
   "hash": "4eaf1be304415beee96765ae99c3f893cc8312c7f1196698e6029668e9aeb3e5"
  },
  "kernelspec": {
   "display_name": "Python 3.9.0 64-bit",
   "language": "python",
   "name": "python3"
  },
  "language_info": {
   "codemirror_mode": {
    "name": "ipython",
    "version": 3
   },
   "file_extension": ".py",
   "mimetype": "text/x-python",
   "name": "python",
   "nbconvert_exporter": "python",
   "pygments_lexer": "ipython3",
   "version": "3.9.0"
  },
  "orig_nbformat": 4
 },
 "nbformat": 4,
 "nbformat_minor": 2
}
