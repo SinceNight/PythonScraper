{
 "cells": [
  {
   "cell_type": "markdown",
   "metadata": {},
   "source": [
    "一般视频是客户端渲染，所以源代码中不会存在。可以通过检查中的选中工具，可以定位需要爬取的客体对应的连接。\n",
    "## 区别网页源代码和开发者工具中的页面对应代码的区别\n",
    "存在问题：为什么不直接获取elements内部信息"
   ]
  },
  {
   "cell_type": "markdown",
   "metadata": {},
   "source": [
    "1.拿到contID\\\n",
    "2.拿到videoStatus返回的json. -> srcURL\\\n",
    "3.对srcURL的内容进行修正\\\n",
    "4.下载视频"
   ]
  },
  {
   "cell_type": "code",
   "execution_count": null,
   "metadata": {},
   "outputs": [],
   "source": [
    "import requests\n",
    "url = \"https://www.pearvideo.com/video_1759724\"\n",
    "contID = url.split(\"_\")[1]\n",
    "\n",
    "videostatus = f\"https://www.pearvideo.com/videoStatus.jsp?contId={contID}&mrd=0.9975884797310657\"       # 方法1.通过改CONTID抓取视频，但是可以直接通过视频客户端渲染结果抓取，但是由于我们需要CONTID，用方法1可以直接程序化\n",
    "\n",
    "\n",
    "\n",
    "uers = {\"User-Agent\": \"Mozilla/5.0 (Windows NT 10.0; Win64; x64) AppleWebKit/537.36 (KHTML, like Gecko) Chrome/99.0.4844.82 Safari/537.36\",'Connection': 'close',\n",
    "        #防盗链\n",
    "        \"referer\":\"https://www.pearvideo.com/video_1759724\"}\n",
    "\n",
    "\n",
    "\n",
    "\n",
    "# url = \"https://www.pearvideo.com/videoStatus.jsp?contId=1759724&mrd=0.5006909194800344\"                  方法2：直接定位视频抓取\n",
    "resp = requests.get(videostatus,headers = uers)\n",
    "dic = resp.json()\n",
    "print(dic)\n",
    "\n"
   ]
  },
  {
   "cell_type": "markdown",
   "metadata": {},
   "source": [
    "## 获取到了视频的地址后，发现视频被在开发者工具中被修改了地址，所以无法播放，需要将其中的systemtime替换为CONTID\n",
    "视频真实连接：https://video.pearvideo.com/mp4/adshort/20220423/cont-1759724-15867283_adpkg-ad_hd.mp4\n",
    "爬下来的连接：https://video.pearvideo.com/mp4/adshort/20220423/1650787373277-15867283_adpkg-ad_hd.mp4"
   ]
  },
  {
   "cell_type": "code",
   "execution_count": null,
   "metadata": {},
   "outputs": [],
   "source": [
    "srcurl = dic[\"videoInfo\"][\"videos\"][\"srcUrl\"]\n",
    "systemtime = dic[\"systemTime\"]\n",
    "srcurl = srcurl.replace(systemtime,f\"cont-{contID}\")\n",
    "# print(srcurl)"
   ]
  },
  {
   "cell_type": "markdown",
   "metadata": {},
   "source": [
    "下载视频"
   ]
  },
  {
   "cell_type": "code",
   "execution_count": null,
   "metadata": {},
   "outputs": [],
   "source": [
    "with open(\"a.mp4\",mode=\"wb\") as f:\n",
    "    f.write(requests.get(srcurl).content)  # 注意，生成的视频VSCODE放不了，要去本地文件中查找"
   ]
  }
 ],
 "metadata": {
  "interpreter": {
   "hash": "4eaf1be304415beee96765ae99c3f893cc8312c7f1196698e6029668e9aeb3e5"
  },
  "kernelspec": {
   "display_name": "Python 3.9.0 64-bit",
   "language": "python",
   "name": "python3"
  },
  "language_info": {
   "codemirror_mode": {
    "name": "ipython",
    "version": 3
   },
   "file_extension": ".py",
   "mimetype": "text/x-python",
   "name": "python",
   "nbconvert_exporter": "python",
   "pygments_lexer": "ipython3",
   "version": "3.9.0"
  },
  "orig_nbformat": 4
 },
 "nbformat": 4,
 "nbformat_minor": 2
}
