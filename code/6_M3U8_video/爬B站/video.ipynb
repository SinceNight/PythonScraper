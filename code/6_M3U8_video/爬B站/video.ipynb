{
 "cells": [
  {
   "cell_type": "code",
   "execution_count": 54,
   "metadata": {},
   "outputs": [
    {
     "name": "stdout",
     "output_type": "stream",
     "text": [
      "https://upos-sz-mirrorhwo1.bilivideo.com/upgcxcode/43/57/448885743/448885743-1-30080.m4s?e=ig8euxZM2rNcNbdlhoNvNC8BqJIzNbfqXBvEqxTEto8BTrNvN0GvT90W5JZMkX_YN0MvXg8gNEV4NC8xNEV4N03eN0B5tZlqNxTEto8BTrNvNeZVuJ10Kj_g2UB02J0mN0B5tZlqNCNEto8BTrNvNC7MTX502C8f2jmMQJ6mqF2fka1mqx6gqj0eN0B599M=&uipk=5&nbs=1&deadline=1651314136&gen=playurlv2&os=hwo1bv&oi=1905003270&trid=2f51511aa83847efa16a995c772d0783u&platform=pc&upsig=3656a989c0668dc798792c141cc7ca97&uparams=e,uipk,nbs,deadline,gen,os,oi,trid,platform&mid=0&bvc=vod&nettype=0&orderid=0,3&agrr=1&bw=55437&logo=80000000\n"
     ]
    }
   ],
   "source": [
    "import requests\n",
    "import re\n",
    "import json\n",
    "import pprint\n",
    "url = \"https://www.bilibili.com/video/BV1xL411M7yg\"\n",
    "uers = {\"User-Agent\": \"Mozilla/5.0 (Windows NT 10.0; Win64; x64) AppleWebKit/537.36 (KHTML, like Gecko) Chrome/99.0.4844.82 Safari/537.36\",\n",
    "        \"referer\":\"https://www.bilibili.com/\"}\n",
    "\n",
    "resp = requests.get(url=url,headers = uers)\n",
    "# print(resp.text)\n",
    "obj = re.findall(\"<script>window.__playinfo__=(.*?)</script>\",resp.text)[0]  # 爬不出数据有时候可能是空格导致的，适当调整空格\n",
    "# res = obj.search(resp.text)\n",
    "# print(obj)\n",
    "# 正则表达式匹配出来的数据是列表，[0]索引取0，取出列表里的所有字符串\n",
    "# 数据很像json字典，可以把字符串转化为字典\n",
    "json_obj = json.loads(obj)\n",
    "# print(json_obj)\n",
    "# pprint.pprint(json_obj)\n",
    "\n",
    "audio_url = json_obj[\"data\"][\"dash\"][\"audio\"][0][\"baseUrl\"]\n",
    "video_url = json_obj[\"data\"][\"dash\"][\"video\"][0][\"baseUrl\"]\n",
    "print(video_url)\n",
    "\n",
    "audio_content = requests.get(audio_url).content\n",
    "video_content = requests.get(video_url).content\n",
    "with open(\"1.mp3\",mode = \"wb\") as f:\n",
    "        f.write(audio_content)\n"
   ]
  }
 ],
 "metadata": {
  "interpreter": {
   "hash": "4eaf1be304415beee96765ae99c3f893cc8312c7f1196698e6029668e9aeb3e5"
  },
  "kernelspec": {
   "display_name": "Python 3.9.0 64-bit",
   "language": "python",
   "name": "python3"
  },
  "language_info": {
   "codemirror_mode": {
    "name": "ipython",
    "version": 3
   },
   "file_extension": ".py",
   "mimetype": "text/x-python",
   "name": "python",
   "nbconvert_exporter": "python",
   "pygments_lexer": "ipython3",
   "version": "3.9.0"
  },
  "orig_nbformat": 4
 },
 "nbformat": 4,
 "nbformat_minor": 2
}
