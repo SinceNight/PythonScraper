{
 "cells": [
  {
   "cell_type": "code",
   "execution_count": null,
   "metadata": {},
   "outputs": [],
   "source": [
    "import requests\n",
    "n=0\n",
    "\n",
    "with open(\"一锤定音\",mode=\"r\",encoding=\"utf-8\") as f:\n",
    "    for line in f:\n",
    "        line = line.strip() # 先去掉空格，空白，换行符\n",
    "        if line.startswith(\"#\"): #以#号开头的内容不要\n",
    "            continue\n",
    "        print(line)\n",
    "\n",
    "        # 下载视频片段\n",
    "\n",
    "        resp3 =requests.get(line)\n",
    "        f = open (\"video/\"+f\"{n}.ts\",mode=\"wb\")\n",
    "        f.write(resp3.content)\n",
    "        n+=1"
   ]
  }
 ],
 "metadata": {
  "interpreter": {
   "hash": "4eaf1be304415beee96765ae99c3f893cc8312c7f1196698e6029668e9aeb3e5"
  },
  "kernelspec": {
   "display_name": "Python 3.9.0 64-bit",
   "language": "python",
   "name": "python3"
  },
  "language_info": {
   "codemirror_mode": {
    "name": "ipython",
    "version": 3
   },
   "file_extension": ".py",
   "mimetype": "text/x-python",
   "name": "python",
   "nbconvert_exporter": "python",
   "pygments_lexer": "ipython3",
   "version": "3.9.0"
  },
  "orig_nbformat": 4
 },
 "nbformat": 4,
 "nbformat_minor": 2
}
