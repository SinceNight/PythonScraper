{
 "cells": [
  {
   "cell_type": "markdown",
   "metadata": {},
   "source": [
    "1.找到M3U8(各种手段)\\\n",
    "2.通过M3U8下载到ts文件\\\n",
    "3.通过各种手段将ts文件合并为MP4文件\\\n",
    "https://91kanju2.com/vod-play/42279-3-1.html"
   ]
  },
  {
   "cell_type": "code",
   "execution_count": null,
   "metadata": {},
   "outputs": [],
   "source": [
    "import requests\n",
    "import re\n",
    "\n",
    "# uers = {\"User-Agent\": \"Mozilla/5.0 (Windows NT 10.0; Win64; x64) AppleWebKit/537.36 (KHTML, like Gecko) Chrome/99.0.4844.82 Safari/537.36\",\n",
    "#         \"referer\":\"https://www.baidu.com/\"}\n",
    "url = \"https://91kanju2.com/vod-play/42279-3-1.html\"\n",
    "resp = requests.get(url,verify=False)\n",
    "print(resp.text)"
   ]
  },
  {
   "cell_type": "markdown",
   "metadata": {},
   "source": [
    "## 通过re来对M3U8的url进行索引"
   ]
  },
  {
   "cell_type": "code",
   "execution_count": null,
   "metadata": {},
   "outputs": [],
   "source": [
    "obj = re.compile(r\"url: '(?P<url>.*?)',\",re.S)          \n",
    "resp = requests.get(url,verify=False)\n",
    "m3u8_url = obj.search(resp.text).group(\"url\")\n",
    "print(m3u8_url)"
   ]
  },
  {
   "cell_type": "markdown",
   "metadata": {},
   "source": [
    "## 下载m3u8内的内容"
   ]
  },
  {
   "cell_type": "code",
   "execution_count": null,
   "metadata": {},
   "outputs": [],
   "source": [
    "resp2 = requests.get(m3u8_url)\n",
    "with open(\"一锤定音\",mode=\"wb\") as f:\n",
    "    f.write(resp2.content)"
   ]
  }
 ],
 "metadata": {
  "interpreter": {
   "hash": "4eaf1be304415beee96765ae99c3f893cc8312c7f1196698e6029668e9aeb3e5"
  },
  "kernelspec": {
   "display_name": "Python 3.9.0 64-bit",
   "language": "python",
   "name": "python3"
  },
  "language_info": {
   "codemirror_mode": {
    "name": "ipython",
    "version": 3
   },
   "file_extension": ".py",
   "mimetype": "text/x-python",
   "name": "python",
   "nbconvert_exporter": "python",
   "pygments_lexer": "ipython3",
   "version": "3.9.0"
  },
  "orig_nbformat": 4
 },
 "nbformat": 4,
 "nbformat_minor": 2
}
