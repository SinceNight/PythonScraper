{
 "cells": [
  {
   "cell_type": "markdown",
   "metadata": {},
   "source": [
    "登录 —>得到cookies\n",
    "带着cookies去请求到书架url ->书架的内容\n",
    "\n",
    "必须把上面的两个操作连起来\n",
    "我们可以使用session进行请求 ->session是一连串的请求，在这个过程中cookie不会丢失"
   ]
  },
  {
   "cell_type": "code",
   "execution_count": null,
   "metadata": {},
   "outputs": [],
   "source": [
    "import requests\n",
    "\n",
    "# 会话\n",
    "session = requests.session()\n",
    "data = {\n",
    "\"loginName\": \"15623374551\",\n",
    "\"password\": \"shanzhan438\"}        #可以在payload中找到登录密码\n",
    "\n",
    "# 1. 登录\n",
    "\n",
    "url = \"https://passport.17k.com/ck/user/login\"\n",
    "resp = session.post(url, data=data)\n",
    "# print(resp)\n",
    "# print(resp.text)\n",
    "# print(resp.cookies)  # uuid是重要信息\n",
    "\n",
    "\n",
    "# 2. 那书架上的书\n",
    "# 刚才的会话中存在cookie\n",
    "resp1 = session.get(\"https://user.17k.com/ck/author/shelf?page=1&appKey=2406394919\")  #注意，此处的数据是客户端渲染。\n",
    "print(resp1.json())"
   ]
  }
 ],
 "metadata": {
  "interpreter": {
   "hash": "4eaf1be304415beee96765ae99c3f893cc8312c7f1196698e6029668e9aeb3e5"
  },
  "kernelspec": {
   "display_name": "Python 3.9.0 64-bit",
   "language": "python",
   "name": "python3"
  },
  "language_info": {
   "codemirror_mode": {
    "name": "ipython",
    "version": 3
   },
   "file_extension": ".py",
   "mimetype": "text/x-python",
   "name": "python",
   "nbconvert_exporter": "python",
   "pygments_lexer": "ipython3",
   "version": "3.9.0"
  },
  "orig_nbformat": 4
 },
 "nbformat": 4,
 "nbformat_minor": 2
}
